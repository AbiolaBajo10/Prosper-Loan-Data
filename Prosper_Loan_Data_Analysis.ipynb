{
 "cells": [
  {
   "cell_type": "markdown",
   "metadata": {},
   "source": [
    "# Part I -  Loan Data from Prosper\n",
    "\n",
    "## by Abiola Ogunbajo\n",
    "\n",
    "## Introduction\n",
    "\n",
    "The Loan Data from Prosper dataset is a financial dataset which is related to the loan, borrowers, interest rates, etc. Prosper or Prosper Marketplace Inc. is a San Francisco, California based company specializing in loans at low interest rates to the borrowers. We are using the dataset from Prosper for exploratory data analysis.\n",
    "The dataset from prosper is comprised of 81 variables and contains 113937 entries.\n",
    "\n",
    "\n",
    "\n",
    "## Preliminary Wrangling\n"
   ]
  },
  {
   "cell_type": "code",
   "execution_count": 1,
   "metadata": {},
   "outputs": [],
   "source": [
    "# import all packages and set plots to be embedded inline\n",
    "import numpy as np\n",
    "import pandas as pd\n",
    "import matplotlib.pyplot as plt\n",
    "import seaborn as sb\n",
    "\n",
    "%matplotlib inline"
   ]
  },
  {
   "cell_type": "code",
   "execution_count": 2,
   "metadata": {
    "scrolled": true
   },
   "outputs": [
    {
     "data": {
      "text/html": [
       "<div>\n",
       "<style scoped>\n",
       "    .dataframe tbody tr th:only-of-type {\n",
       "        vertical-align: middle;\n",
       "    }\n",
       "\n",
       "    .dataframe tbody tr th {\n",
       "        vertical-align: top;\n",
       "    }\n",
       "\n",
       "    .dataframe thead th {\n",
       "        text-align: right;\n",
       "    }\n",
       "</style>\n",
       "<table border=\"1\" class=\"dataframe\">\n",
       "  <thead>\n",
       "    <tr style=\"text-align: right;\">\n",
       "      <th></th>\n",
       "      <th>ListingKey</th>\n",
       "      <th>ListingNumber</th>\n",
       "      <th>ListingCreationDate</th>\n",
       "      <th>CreditGrade</th>\n",
       "      <th>Term</th>\n",
       "      <th>LoanStatus</th>\n",
       "      <th>ClosedDate</th>\n",
       "      <th>BorrowerAPR</th>\n",
       "      <th>BorrowerRate</th>\n",
       "      <th>LenderYield</th>\n",
       "      <th>...</th>\n",
       "      <th>LP_ServiceFees</th>\n",
       "      <th>LP_CollectionFees</th>\n",
       "      <th>LP_GrossPrincipalLoss</th>\n",
       "      <th>LP_NetPrincipalLoss</th>\n",
       "      <th>LP_NonPrincipalRecoverypayments</th>\n",
       "      <th>PercentFunded</th>\n",
       "      <th>Recommendations</th>\n",
       "      <th>InvestmentFromFriendsCount</th>\n",
       "      <th>InvestmentFromFriendsAmount</th>\n",
       "      <th>Investors</th>\n",
       "    </tr>\n",
       "  </thead>\n",
       "  <tbody>\n",
       "    <tr>\n",
       "      <th>0</th>\n",
       "      <td>1021339766868145413AB3B</td>\n",
       "      <td>193129</td>\n",
       "      <td>2007-08-26 19:09:29.263000000</td>\n",
       "      <td>C</td>\n",
       "      <td>36</td>\n",
       "      <td>Completed</td>\n",
       "      <td>2009-08-14 00:00:00</td>\n",
       "      <td>0.16516</td>\n",
       "      <td>0.1580</td>\n",
       "      <td>0.1380</td>\n",
       "      <td>...</td>\n",
       "      <td>-133.18</td>\n",
       "      <td>0.0</td>\n",
       "      <td>0.0</td>\n",
       "      <td>0.0</td>\n",
       "      <td>0.0</td>\n",
       "      <td>1.0</td>\n",
       "      <td>0</td>\n",
       "      <td>0</td>\n",
       "      <td>0.0</td>\n",
       "      <td>258</td>\n",
       "    </tr>\n",
       "    <tr>\n",
       "      <th>1</th>\n",
       "      <td>10273602499503308B223C1</td>\n",
       "      <td>1209647</td>\n",
       "      <td>2014-02-27 08:28:07.900000000</td>\n",
       "      <td>NaN</td>\n",
       "      <td>36</td>\n",
       "      <td>Current</td>\n",
       "      <td>NaN</td>\n",
       "      <td>0.12016</td>\n",
       "      <td>0.0920</td>\n",
       "      <td>0.0820</td>\n",
       "      <td>...</td>\n",
       "      <td>0.00</td>\n",
       "      <td>0.0</td>\n",
       "      <td>0.0</td>\n",
       "      <td>0.0</td>\n",
       "      <td>0.0</td>\n",
       "      <td>1.0</td>\n",
       "      <td>0</td>\n",
       "      <td>0</td>\n",
       "      <td>0.0</td>\n",
       "      <td>1</td>\n",
       "    </tr>\n",
       "    <tr>\n",
       "      <th>2</th>\n",
       "      <td>0EE9337825851032864889A</td>\n",
       "      <td>81716</td>\n",
       "      <td>2007-01-05 15:00:47.090000000</td>\n",
       "      <td>HR</td>\n",
       "      <td>36</td>\n",
       "      <td>Completed</td>\n",
       "      <td>2009-12-17 00:00:00</td>\n",
       "      <td>0.28269</td>\n",
       "      <td>0.2750</td>\n",
       "      <td>0.2400</td>\n",
       "      <td>...</td>\n",
       "      <td>-24.20</td>\n",
       "      <td>0.0</td>\n",
       "      <td>0.0</td>\n",
       "      <td>0.0</td>\n",
       "      <td>0.0</td>\n",
       "      <td>1.0</td>\n",
       "      <td>0</td>\n",
       "      <td>0</td>\n",
       "      <td>0.0</td>\n",
       "      <td>41</td>\n",
       "    </tr>\n",
       "    <tr>\n",
       "      <th>3</th>\n",
       "      <td>0EF5356002482715299901A</td>\n",
       "      <td>658116</td>\n",
       "      <td>2012-10-22 11:02:35.010000000</td>\n",
       "      <td>NaN</td>\n",
       "      <td>36</td>\n",
       "      <td>Current</td>\n",
       "      <td>NaN</td>\n",
       "      <td>0.12528</td>\n",
       "      <td>0.0974</td>\n",
       "      <td>0.0874</td>\n",
       "      <td>...</td>\n",
       "      <td>-108.01</td>\n",
       "      <td>0.0</td>\n",
       "      <td>0.0</td>\n",
       "      <td>0.0</td>\n",
       "      <td>0.0</td>\n",
       "      <td>1.0</td>\n",
       "      <td>0</td>\n",
       "      <td>0</td>\n",
       "      <td>0.0</td>\n",
       "      <td>158</td>\n",
       "    </tr>\n",
       "    <tr>\n",
       "      <th>4</th>\n",
       "      <td>0F023589499656230C5E3E2</td>\n",
       "      <td>909464</td>\n",
       "      <td>2013-09-14 18:38:39.097000000</td>\n",
       "      <td>NaN</td>\n",
       "      <td>36</td>\n",
       "      <td>Current</td>\n",
       "      <td>NaN</td>\n",
       "      <td>0.24614</td>\n",
       "      <td>0.2085</td>\n",
       "      <td>0.1985</td>\n",
       "      <td>...</td>\n",
       "      <td>-60.27</td>\n",
       "      <td>0.0</td>\n",
       "      <td>0.0</td>\n",
       "      <td>0.0</td>\n",
       "      <td>0.0</td>\n",
       "      <td>1.0</td>\n",
       "      <td>0</td>\n",
       "      <td>0</td>\n",
       "      <td>0.0</td>\n",
       "      <td>20</td>\n",
       "    </tr>\n",
       "  </tbody>\n",
       "</table>\n",
       "<p>5 rows × 81 columns</p>\n",
       "</div>"
      ],
      "text/plain": [
       "                ListingKey  ListingNumber            ListingCreationDate  \\\n",
       "0  1021339766868145413AB3B         193129  2007-08-26 19:09:29.263000000   \n",
       "1  10273602499503308B223C1        1209647  2014-02-27 08:28:07.900000000   \n",
       "2  0EE9337825851032864889A          81716  2007-01-05 15:00:47.090000000   \n",
       "3  0EF5356002482715299901A         658116  2012-10-22 11:02:35.010000000   \n",
       "4  0F023589499656230C5E3E2         909464  2013-09-14 18:38:39.097000000   \n",
       "\n",
       "  CreditGrade  Term LoanStatus           ClosedDate  BorrowerAPR  \\\n",
       "0           C    36  Completed  2009-08-14 00:00:00      0.16516   \n",
       "1         NaN    36    Current                  NaN      0.12016   \n",
       "2          HR    36  Completed  2009-12-17 00:00:00      0.28269   \n",
       "3         NaN    36    Current                  NaN      0.12528   \n",
       "4         NaN    36    Current                  NaN      0.24614   \n",
       "\n",
       "   BorrowerRate  LenderYield  ...  LP_ServiceFees  LP_CollectionFees  \\\n",
       "0        0.1580       0.1380  ...         -133.18                0.0   \n",
       "1        0.0920       0.0820  ...            0.00                0.0   \n",
       "2        0.2750       0.2400  ...          -24.20                0.0   \n",
       "3        0.0974       0.0874  ...         -108.01                0.0   \n",
       "4        0.2085       0.1985  ...          -60.27                0.0   \n",
       "\n",
       "   LP_GrossPrincipalLoss  LP_NetPrincipalLoss LP_NonPrincipalRecoverypayments  \\\n",
       "0                    0.0                  0.0                             0.0   \n",
       "1                    0.0                  0.0                             0.0   \n",
       "2                    0.0                  0.0                             0.0   \n",
       "3                    0.0                  0.0                             0.0   \n",
       "4                    0.0                  0.0                             0.0   \n",
       "\n",
       "   PercentFunded  Recommendations InvestmentFromFriendsCount  \\\n",
       "0            1.0                0                          0   \n",
       "1            1.0                0                          0   \n",
       "2            1.0                0                          0   \n",
       "3            1.0                0                          0   \n",
       "4            1.0                0                          0   \n",
       "\n",
       "  InvestmentFromFriendsAmount Investors  \n",
       "0                         0.0       258  \n",
       "1                         0.0         1  \n",
       "2                         0.0        41  \n",
       "3                         0.0       158  \n",
       "4                         0.0        20  \n",
       "\n",
       "[5 rows x 81 columns]"
      ]
     },
     "execution_count": 2,
     "metadata": {},
     "output_type": "execute_result"
    }
   ],
   "source": [
    "# load the dataset into a dataframe\n",
    "df = pd.read_csv('prosperLoanData.csv')\n",
    "df.head()"
   ]
  },
  {
   "cell_type": "code",
   "execution_count": 3,
   "metadata": {},
   "outputs": [
    {
     "data": {
      "text/html": [
       "<div>\n",
       "<style scoped>\n",
       "    .dataframe tbody tr th:only-of-type {\n",
       "        vertical-align: middle;\n",
       "    }\n",
       "\n",
       "    .dataframe tbody tr th {\n",
       "        vertical-align: top;\n",
       "    }\n",
       "\n",
       "    .dataframe thead th {\n",
       "        text-align: right;\n",
       "    }\n",
       "</style>\n",
       "<table border=\"1\" class=\"dataframe\">\n",
       "  <thead>\n",
       "    <tr style=\"text-align: right;\">\n",
       "      <th></th>\n",
       "      <th>ListingKey</th>\n",
       "      <th>ListingNumber</th>\n",
       "      <th>ListingCreationDate</th>\n",
       "      <th>CreditGrade</th>\n",
       "      <th>Term</th>\n",
       "      <th>LoanStatus</th>\n",
       "      <th>ClosedDate</th>\n",
       "      <th>BorrowerAPR</th>\n",
       "      <th>BorrowerRate</th>\n",
       "      <th>LenderYield</th>\n",
       "      <th>...</th>\n",
       "      <th>LP_ServiceFees</th>\n",
       "      <th>LP_CollectionFees</th>\n",
       "      <th>LP_GrossPrincipalLoss</th>\n",
       "      <th>LP_NetPrincipalLoss</th>\n",
       "      <th>LP_NonPrincipalRecoverypayments</th>\n",
       "      <th>PercentFunded</th>\n",
       "      <th>Recommendations</th>\n",
       "      <th>InvestmentFromFriendsCount</th>\n",
       "      <th>InvestmentFromFriendsAmount</th>\n",
       "      <th>Investors</th>\n",
       "    </tr>\n",
       "  </thead>\n",
       "  <tbody>\n",
       "    <tr>\n",
       "      <th>113932</th>\n",
       "      <td>E6D9357655724827169606C</td>\n",
       "      <td>753087</td>\n",
       "      <td>2013-04-14 05:55:02.663000000</td>\n",
       "      <td>NaN</td>\n",
       "      <td>36</td>\n",
       "      <td>Current</td>\n",
       "      <td>NaN</td>\n",
       "      <td>0.22354</td>\n",
       "      <td>0.1864</td>\n",
       "      <td>0.1764</td>\n",
       "      <td>...</td>\n",
       "      <td>-75.58</td>\n",
       "      <td>0.0</td>\n",
       "      <td>0.0</td>\n",
       "      <td>0.0</td>\n",
       "      <td>0.0</td>\n",
       "      <td>1.0</td>\n",
       "      <td>0</td>\n",
       "      <td>0</td>\n",
       "      <td>0.0</td>\n",
       "      <td>1</td>\n",
       "    </tr>\n",
       "    <tr>\n",
       "      <th>113933</th>\n",
       "      <td>E6DB353036033497292EE43</td>\n",
       "      <td>537216</td>\n",
       "      <td>2011-11-03 20:42:55.333000000</td>\n",
       "      <td>NaN</td>\n",
       "      <td>36</td>\n",
       "      <td>FinalPaymentInProgress</td>\n",
       "      <td>NaN</td>\n",
       "      <td>0.13220</td>\n",
       "      <td>0.1110</td>\n",
       "      <td>0.1010</td>\n",
       "      <td>...</td>\n",
       "      <td>-30.05</td>\n",
       "      <td>0.0</td>\n",
       "      <td>0.0</td>\n",
       "      <td>0.0</td>\n",
       "      <td>0.0</td>\n",
       "      <td>1.0</td>\n",
       "      <td>0</td>\n",
       "      <td>0</td>\n",
       "      <td>0.0</td>\n",
       "      <td>22</td>\n",
       "    </tr>\n",
       "    <tr>\n",
       "      <th>113934</th>\n",
       "      <td>E6E13596170052029692BB1</td>\n",
       "      <td>1069178</td>\n",
       "      <td>2013-12-13 05:49:12.703000000</td>\n",
       "      <td>NaN</td>\n",
       "      <td>60</td>\n",
       "      <td>Current</td>\n",
       "      <td>NaN</td>\n",
       "      <td>0.23984</td>\n",
       "      <td>0.2150</td>\n",
       "      <td>0.2050</td>\n",
       "      <td>...</td>\n",
       "      <td>-16.91</td>\n",
       "      <td>0.0</td>\n",
       "      <td>0.0</td>\n",
       "      <td>0.0</td>\n",
       "      <td>0.0</td>\n",
       "      <td>1.0</td>\n",
       "      <td>0</td>\n",
       "      <td>0</td>\n",
       "      <td>0.0</td>\n",
       "      <td>119</td>\n",
       "    </tr>\n",
       "    <tr>\n",
       "      <th>113935</th>\n",
       "      <td>E6EB3531504622671970D9E</td>\n",
       "      <td>539056</td>\n",
       "      <td>2011-11-14 13:18:26.597000000</td>\n",
       "      <td>NaN</td>\n",
       "      <td>60</td>\n",
       "      <td>Completed</td>\n",
       "      <td>2013-08-13 00:00:00</td>\n",
       "      <td>0.28408</td>\n",
       "      <td>0.2605</td>\n",
       "      <td>0.2505</td>\n",
       "      <td>...</td>\n",
       "      <td>-235.05</td>\n",
       "      <td>0.0</td>\n",
       "      <td>0.0</td>\n",
       "      <td>0.0</td>\n",
       "      <td>0.0</td>\n",
       "      <td>1.0</td>\n",
       "      <td>0</td>\n",
       "      <td>0</td>\n",
       "      <td>0.0</td>\n",
       "      <td>274</td>\n",
       "    </tr>\n",
       "    <tr>\n",
       "      <th>113936</th>\n",
       "      <td>E6ED3600409833199F711B7</td>\n",
       "      <td>1140093</td>\n",
       "      <td>2014-01-15 09:27:37.657000000</td>\n",
       "      <td>NaN</td>\n",
       "      <td>36</td>\n",
       "      <td>Current</td>\n",
       "      <td>NaN</td>\n",
       "      <td>0.13189</td>\n",
       "      <td>0.1039</td>\n",
       "      <td>0.0939</td>\n",
       "      <td>...</td>\n",
       "      <td>-1.70</td>\n",
       "      <td>0.0</td>\n",
       "      <td>0.0</td>\n",
       "      <td>0.0</td>\n",
       "      <td>0.0</td>\n",
       "      <td>1.0</td>\n",
       "      <td>0</td>\n",
       "      <td>0</td>\n",
       "      <td>0.0</td>\n",
       "      <td>1</td>\n",
       "    </tr>\n",
       "  </tbody>\n",
       "</table>\n",
       "<p>5 rows × 81 columns</p>\n",
       "</div>"
      ],
      "text/plain": [
       "                     ListingKey  ListingNumber            ListingCreationDate  \\\n",
       "113932  E6D9357655724827169606C         753087  2013-04-14 05:55:02.663000000   \n",
       "113933  E6DB353036033497292EE43         537216  2011-11-03 20:42:55.333000000   \n",
       "113934  E6E13596170052029692BB1        1069178  2013-12-13 05:49:12.703000000   \n",
       "113935  E6EB3531504622671970D9E         539056  2011-11-14 13:18:26.597000000   \n",
       "113936  E6ED3600409833199F711B7        1140093  2014-01-15 09:27:37.657000000   \n",
       "\n",
       "       CreditGrade  Term              LoanStatus           ClosedDate  \\\n",
       "113932         NaN    36                 Current                  NaN   \n",
       "113933         NaN    36  FinalPaymentInProgress                  NaN   \n",
       "113934         NaN    60                 Current                  NaN   \n",
       "113935         NaN    60               Completed  2013-08-13 00:00:00   \n",
       "113936         NaN    36                 Current                  NaN   \n",
       "\n",
       "        BorrowerAPR  BorrowerRate  LenderYield  ...  LP_ServiceFees  \\\n",
       "113932      0.22354        0.1864       0.1764  ...          -75.58   \n",
       "113933      0.13220        0.1110       0.1010  ...          -30.05   \n",
       "113934      0.23984        0.2150       0.2050  ...          -16.91   \n",
       "113935      0.28408        0.2605       0.2505  ...         -235.05   \n",
       "113936      0.13189        0.1039       0.0939  ...           -1.70   \n",
       "\n",
       "        LP_CollectionFees  LP_GrossPrincipalLoss  LP_NetPrincipalLoss  \\\n",
       "113932                0.0                    0.0                  0.0   \n",
       "113933                0.0                    0.0                  0.0   \n",
       "113934                0.0                    0.0                  0.0   \n",
       "113935                0.0                    0.0                  0.0   \n",
       "113936                0.0                    0.0                  0.0   \n",
       "\n",
       "       LP_NonPrincipalRecoverypayments  PercentFunded  Recommendations  \\\n",
       "113932                             0.0            1.0                0   \n",
       "113933                             0.0            1.0                0   \n",
       "113934                             0.0            1.0                0   \n",
       "113935                             0.0            1.0                0   \n",
       "113936                             0.0            1.0                0   \n",
       "\n",
       "       InvestmentFromFriendsCount InvestmentFromFriendsAmount Investors  \n",
       "113932                          0                         0.0         1  \n",
       "113933                          0                         0.0        22  \n",
       "113934                          0                         0.0       119  \n",
       "113935                          0                         0.0       274  \n",
       "113936                          0                         0.0         1  \n",
       "\n",
       "[5 rows x 81 columns]"
      ]
     },
     "execution_count": 3,
     "metadata": {},
     "output_type": "execute_result"
    }
   ],
   "source": [
    "# the last 5 rows of the dataframe\n",
    "df.tail()"
   ]
  },
  {
   "cell_type": "code",
   "execution_count": 4,
   "metadata": {},
   "outputs": [
    {
     "data": {
      "text/html": [
       "<div>\n",
       "<style scoped>\n",
       "    .dataframe tbody tr th:only-of-type {\n",
       "        vertical-align: middle;\n",
       "    }\n",
       "\n",
       "    .dataframe tbody tr th {\n",
       "        vertical-align: top;\n",
       "    }\n",
       "\n",
       "    .dataframe thead th {\n",
       "        text-align: right;\n",
       "    }\n",
       "</style>\n",
       "<table border=\"1\" class=\"dataframe\">\n",
       "  <thead>\n",
       "    <tr style=\"text-align: right;\">\n",
       "      <th></th>\n",
       "      <th>ListingKey</th>\n",
       "      <th>ListingNumber</th>\n",
       "      <th>ListingCreationDate</th>\n",
       "      <th>CreditGrade</th>\n",
       "      <th>Term</th>\n",
       "      <th>LoanStatus</th>\n",
       "      <th>ClosedDate</th>\n",
       "      <th>BorrowerAPR</th>\n",
       "      <th>BorrowerRate</th>\n",
       "      <th>LenderYield</th>\n",
       "      <th>...</th>\n",
       "      <th>LP_ServiceFees</th>\n",
       "      <th>LP_CollectionFees</th>\n",
       "      <th>LP_GrossPrincipalLoss</th>\n",
       "      <th>LP_NetPrincipalLoss</th>\n",
       "      <th>LP_NonPrincipalRecoverypayments</th>\n",
       "      <th>PercentFunded</th>\n",
       "      <th>Recommendations</th>\n",
       "      <th>InvestmentFromFriendsCount</th>\n",
       "      <th>InvestmentFromFriendsAmount</th>\n",
       "      <th>Investors</th>\n",
       "    </tr>\n",
       "  </thead>\n",
       "  <tbody>\n",
       "    <tr>\n",
       "      <th>67533</th>\n",
       "      <td>81EE3557668846221B527D7</td>\n",
       "      <td>636109</td>\n",
       "      <td>2012-09-07 14:59:25.267000000</td>\n",
       "      <td>NaN</td>\n",
       "      <td>36</td>\n",
       "      <td>Chargedoff</td>\n",
       "      <td>2013-06-14 00:00:00</td>\n",
       "      <td>0.35797</td>\n",
       "      <td>0.3177</td>\n",
       "      <td>0.3077</td>\n",
       "      <td>...</td>\n",
       "      <td>-13.03</td>\n",
       "      <td>0.0</td>\n",
       "      <td>3718.81</td>\n",
       "      <td>3718.81</td>\n",
       "      <td>0.0</td>\n",
       "      <td>1.0</td>\n",
       "      <td>0</td>\n",
       "      <td>0</td>\n",
       "      <td>0.0</td>\n",
       "      <td>22</td>\n",
       "    </tr>\n",
       "    <tr>\n",
       "      <th>1904</th>\n",
       "      <td>371F35549330456350D8B70</td>\n",
       "      <td>624532</td>\n",
       "      <td>2012-08-14 07:39:26.907000000</td>\n",
       "      <td>NaN</td>\n",
       "      <td>60</td>\n",
       "      <td>Completed</td>\n",
       "      <td>2012-11-30 00:00:00</td>\n",
       "      <td>0.15936</td>\n",
       "      <td>0.1364</td>\n",
       "      <td>0.1264</td>\n",
       "      <td>...</td>\n",
       "      <td>-11.15</td>\n",
       "      <td>0.0</td>\n",
       "      <td>0.00</td>\n",
       "      <td>0.00</td>\n",
       "      <td>0.0</td>\n",
       "      <td>1.0</td>\n",
       "      <td>0</td>\n",
       "      <td>0</td>\n",
       "      <td>0.0</td>\n",
       "      <td>61</td>\n",
       "    </tr>\n",
       "    <tr>\n",
       "      <th>110679</th>\n",
       "      <td>741C3540902308698DCA409</td>\n",
       "      <td>567694</td>\n",
       "      <td>2012-03-12 10:32:50.083000000</td>\n",
       "      <td>NaN</td>\n",
       "      <td>36</td>\n",
       "      <td>Current</td>\n",
       "      <td>NaN</td>\n",
       "      <td>0.35797</td>\n",
       "      <td>0.3177</td>\n",
       "      <td>0.3077</td>\n",
       "      <td>...</td>\n",
       "      <td>-59.58</td>\n",
       "      <td>0.0</td>\n",
       "      <td>0.00</td>\n",
       "      <td>0.00</td>\n",
       "      <td>0.0</td>\n",
       "      <td>1.0</td>\n",
       "      <td>0</td>\n",
       "      <td>0</td>\n",
       "      <td>0.0</td>\n",
       "      <td>12</td>\n",
       "    </tr>\n",
       "    <tr>\n",
       "      <th>37583</th>\n",
       "      <td>4B423546332274711B65002</td>\n",
       "      <td>584460</td>\n",
       "      <td>2012-05-01 11:02:29.957000000</td>\n",
       "      <td>NaN</td>\n",
       "      <td>36</td>\n",
       "      <td>Completed</td>\n",
       "      <td>2012-06-13 00:00:00</td>\n",
       "      <td>0.35797</td>\n",
       "      <td>0.3177</td>\n",
       "      <td>0.3077</td>\n",
       "      <td>...</td>\n",
       "      <td>-1.46</td>\n",
       "      <td>0.0</td>\n",
       "      <td>0.00</td>\n",
       "      <td>0.00</td>\n",
       "      <td>0.0</td>\n",
       "      <td>1.0</td>\n",
       "      <td>0</td>\n",
       "      <td>0</td>\n",
       "      <td>0.0</td>\n",
       "      <td>12</td>\n",
       "    </tr>\n",
       "    <tr>\n",
       "      <th>31525</th>\n",
       "      <td>D3A835143609100643E924B</td>\n",
       "      <td>505436</td>\n",
       "      <td>2011-05-05 03:32:56.097000000</td>\n",
       "      <td>NaN</td>\n",
       "      <td>36</td>\n",
       "      <td>Completed</td>\n",
       "      <td>2012-02-14 00:00:00</td>\n",
       "      <td>0.29510</td>\n",
       "      <td>0.2599</td>\n",
       "      <td>0.2499</td>\n",
       "      <td>...</td>\n",
       "      <td>-14.15</td>\n",
       "      <td>0.0</td>\n",
       "      <td>0.00</td>\n",
       "      <td>0.00</td>\n",
       "      <td>0.0</td>\n",
       "      <td>1.0</td>\n",
       "      <td>0</td>\n",
       "      <td>0</td>\n",
       "      <td>0.0</td>\n",
       "      <td>2</td>\n",
       "    </tr>\n",
       "    <tr>\n",
       "      <th>10373</th>\n",
       "      <td>86073532917970738664FB2</td>\n",
       "      <td>540032</td>\n",
       "      <td>2011-11-19 12:20:25.957000000</td>\n",
       "      <td>NaN</td>\n",
       "      <td>36</td>\n",
       "      <td>Chargedoff</td>\n",
       "      <td>2012-07-13 00:00:00</td>\n",
       "      <td>0.15375</td>\n",
       "      <td>0.1254</td>\n",
       "      <td>0.1154</td>\n",
       "      <td>...</td>\n",
       "      <td>-8.22</td>\n",
       "      <td>0.0</td>\n",
       "      <td>3850.25</td>\n",
       "      <td>3850.25</td>\n",
       "      <td>0.0</td>\n",
       "      <td>1.0</td>\n",
       "      <td>0</td>\n",
       "      <td>0</td>\n",
       "      <td>0.0</td>\n",
       "      <td>63</td>\n",
       "    </tr>\n",
       "    <tr>\n",
       "      <th>34906</th>\n",
       "      <td>B1A43497620702048BE827C</td>\n",
       "      <td>482226</td>\n",
       "      <td>2010-10-31 13:48:06.490000000</td>\n",
       "      <td>NaN</td>\n",
       "      <td>36</td>\n",
       "      <td>Completed</td>\n",
       "      <td>2011-08-01 00:00:00</td>\n",
       "      <td>0.31053</td>\n",
       "      <td>0.2750</td>\n",
       "      <td>0.2650</td>\n",
       "      <td>...</td>\n",
       "      <td>-12.81</td>\n",
       "      <td>0.0</td>\n",
       "      <td>0.00</td>\n",
       "      <td>0.00</td>\n",
       "      <td>0.0</td>\n",
       "      <td>1.0</td>\n",
       "      <td>0</td>\n",
       "      <td>0</td>\n",
       "      <td>0.0</td>\n",
       "      <td>58</td>\n",
       "    </tr>\n",
       "    <tr>\n",
       "      <th>3944</th>\n",
       "      <td>56523552821623989E5A07C</td>\n",
       "      <td>612233</td>\n",
       "      <td>2012-07-15 14:59:25.037000000</td>\n",
       "      <td>NaN</td>\n",
       "      <td>60</td>\n",
       "      <td>Current</td>\n",
       "      <td>NaN</td>\n",
       "      <td>0.27462</td>\n",
       "      <td>0.2489</td>\n",
       "      <td>0.2389</td>\n",
       "      <td>...</td>\n",
       "      <td>-188.16</td>\n",
       "      <td>0.0</td>\n",
       "      <td>0.00</td>\n",
       "      <td>0.00</td>\n",
       "      <td>0.0</td>\n",
       "      <td>1.0</td>\n",
       "      <td>0</td>\n",
       "      <td>0</td>\n",
       "      <td>0.0</td>\n",
       "      <td>168</td>\n",
       "    </tr>\n",
       "    <tr>\n",
       "      <th>9861</th>\n",
       "      <td>9C7F3535440109378CEDD51</td>\n",
       "      <td>550689</td>\n",
       "      <td>2012-01-10 20:42:21.997000000</td>\n",
       "      <td>NaN</td>\n",
       "      <td>60</td>\n",
       "      <td>Chargedoff</td>\n",
       "      <td>2014-01-18 00:00:00</td>\n",
       "      <td>0.30008</td>\n",
       "      <td>0.2737</td>\n",
       "      <td>0.2637</td>\n",
       "      <td>...</td>\n",
       "      <td>-111.94</td>\n",
       "      <td>0.0</td>\n",
       "      <td>8047.57</td>\n",
       "      <td>8047.57</td>\n",
       "      <td>0.0</td>\n",
       "      <td>1.0</td>\n",
       "      <td>0</td>\n",
       "      <td>0</td>\n",
       "      <td>0.0</td>\n",
       "      <td>91</td>\n",
       "    </tr>\n",
       "    <tr>\n",
       "      <th>36241</th>\n",
       "      <td>39B434126874656222882B1</td>\n",
       "      <td>277425</td>\n",
       "      <td>2008-02-08 11:29:47.370000000</td>\n",
       "      <td>D</td>\n",
       "      <td>36</td>\n",
       "      <td>Defaulted</td>\n",
       "      <td>2009-04-01 00:00:00</td>\n",
       "      <td>0.28827</td>\n",
       "      <td>0.2650</td>\n",
       "      <td>0.2550</td>\n",
       "      <td>...</td>\n",
       "      <td>-34.60</td>\n",
       "      <td>0.0</td>\n",
       "      <td>4092.02</td>\n",
       "      <td>4092.02</td>\n",
       "      <td>0.0</td>\n",
       "      <td>1.0</td>\n",
       "      <td>0</td>\n",
       "      <td>0</td>\n",
       "      <td>0.0</td>\n",
       "      <td>111</td>\n",
       "    </tr>\n",
       "  </tbody>\n",
       "</table>\n",
       "<p>10 rows × 81 columns</p>\n",
       "</div>"
      ],
      "text/plain": [
       "                     ListingKey  ListingNumber            ListingCreationDate  \\\n",
       "67533   81EE3557668846221B527D7         636109  2012-09-07 14:59:25.267000000   \n",
       "1904    371F35549330456350D8B70         624532  2012-08-14 07:39:26.907000000   \n",
       "110679  741C3540902308698DCA409         567694  2012-03-12 10:32:50.083000000   \n",
       "37583   4B423546332274711B65002         584460  2012-05-01 11:02:29.957000000   \n",
       "31525   D3A835143609100643E924B         505436  2011-05-05 03:32:56.097000000   \n",
       "10373   86073532917970738664FB2         540032  2011-11-19 12:20:25.957000000   \n",
       "34906   B1A43497620702048BE827C         482226  2010-10-31 13:48:06.490000000   \n",
       "3944    56523552821623989E5A07C         612233  2012-07-15 14:59:25.037000000   \n",
       "9861    9C7F3535440109378CEDD51         550689  2012-01-10 20:42:21.997000000   \n",
       "36241   39B434126874656222882B1         277425  2008-02-08 11:29:47.370000000   \n",
       "\n",
       "       CreditGrade  Term  LoanStatus           ClosedDate  BorrowerAPR  \\\n",
       "67533          NaN    36  Chargedoff  2013-06-14 00:00:00      0.35797   \n",
       "1904           NaN    60   Completed  2012-11-30 00:00:00      0.15936   \n",
       "110679         NaN    36     Current                  NaN      0.35797   \n",
       "37583          NaN    36   Completed  2012-06-13 00:00:00      0.35797   \n",
       "31525          NaN    36   Completed  2012-02-14 00:00:00      0.29510   \n",
       "10373          NaN    36  Chargedoff  2012-07-13 00:00:00      0.15375   \n",
       "34906          NaN    36   Completed  2011-08-01 00:00:00      0.31053   \n",
       "3944           NaN    60     Current                  NaN      0.27462   \n",
       "9861           NaN    60  Chargedoff  2014-01-18 00:00:00      0.30008   \n",
       "36241            D    36   Defaulted  2009-04-01 00:00:00      0.28827   \n",
       "\n",
       "        BorrowerRate  LenderYield  ...  LP_ServiceFees  LP_CollectionFees  \\\n",
       "67533         0.3177       0.3077  ...          -13.03                0.0   \n",
       "1904          0.1364       0.1264  ...          -11.15                0.0   \n",
       "110679        0.3177       0.3077  ...          -59.58                0.0   \n",
       "37583         0.3177       0.3077  ...           -1.46                0.0   \n",
       "31525         0.2599       0.2499  ...          -14.15                0.0   \n",
       "10373         0.1254       0.1154  ...           -8.22                0.0   \n",
       "34906         0.2750       0.2650  ...          -12.81                0.0   \n",
       "3944          0.2489       0.2389  ...         -188.16                0.0   \n",
       "9861          0.2737       0.2637  ...         -111.94                0.0   \n",
       "36241         0.2650       0.2550  ...          -34.60                0.0   \n",
       "\n",
       "        LP_GrossPrincipalLoss  LP_NetPrincipalLoss  \\\n",
       "67533                 3718.81              3718.81   \n",
       "1904                     0.00                 0.00   \n",
       "110679                   0.00                 0.00   \n",
       "37583                    0.00                 0.00   \n",
       "31525                    0.00                 0.00   \n",
       "10373                 3850.25              3850.25   \n",
       "34906                    0.00                 0.00   \n",
       "3944                     0.00                 0.00   \n",
       "9861                  8047.57              8047.57   \n",
       "36241                 4092.02              4092.02   \n",
       "\n",
       "       LP_NonPrincipalRecoverypayments  PercentFunded  Recommendations  \\\n",
       "67533                              0.0            1.0                0   \n",
       "1904                               0.0            1.0                0   \n",
       "110679                             0.0            1.0                0   \n",
       "37583                              0.0            1.0                0   \n",
       "31525                              0.0            1.0                0   \n",
       "10373                              0.0            1.0                0   \n",
       "34906                              0.0            1.0                0   \n",
       "3944                               0.0            1.0                0   \n",
       "9861                               0.0            1.0                0   \n",
       "36241                              0.0            1.0                0   \n",
       "\n",
       "       InvestmentFromFriendsCount InvestmentFromFriendsAmount Investors  \n",
       "67533                           0                         0.0        22  \n",
       "1904                            0                         0.0        61  \n",
       "110679                          0                         0.0        12  \n",
       "37583                           0                         0.0        12  \n",
       "31525                           0                         0.0         2  \n",
       "10373                           0                         0.0        63  \n",
       "34906                           0                         0.0        58  \n",
       "3944                            0                         0.0       168  \n",
       "9861                            0                         0.0        91  \n",
       "36241                           0                         0.0       111  \n",
       "\n",
       "[10 rows x 81 columns]"
      ]
     },
     "execution_count": 4,
     "metadata": {},
     "output_type": "execute_result"
    }
   ],
   "source": [
    "# ten random rows in the dataframe \n",
    "df.sample(10)"
   ]
  },
  {
   "cell_type": "code",
   "execution_count": 5,
   "metadata": {},
   "outputs": [
    {
     "data": {
      "text/plain": [
       "(113937, 81)"
      ]
     },
     "execution_count": 5,
     "metadata": {},
     "output_type": "execute_result"
    }
   ],
   "source": [
    "# the dimensions of the dataframe \n",
    "df.shape"
   ]
  },
  {
   "cell_type": "code",
   "execution_count": 6,
   "metadata": {},
   "outputs": [
    {
     "name": "stdout",
     "output_type": "stream",
     "text": [
      "<class 'pandas.core.frame.DataFrame'>\n",
      "RangeIndex: 113937 entries, 0 to 113936\n",
      "Data columns (total 81 columns):\n",
      " #   Column                               Non-Null Count   Dtype  \n",
      "---  ------                               --------------   -----  \n",
      " 0   ListingKey                           113937 non-null  object \n",
      " 1   ListingNumber                        113937 non-null  int64  \n",
      " 2   ListingCreationDate                  113937 non-null  object \n",
      " 3   CreditGrade                          28953 non-null   object \n",
      " 4   Term                                 113937 non-null  int64  \n",
      " 5   LoanStatus                           113937 non-null  object \n",
      " 6   ClosedDate                           55089 non-null   object \n",
      " 7   BorrowerAPR                          113912 non-null  float64\n",
      " 8   BorrowerRate                         113937 non-null  float64\n",
      " 9   LenderYield                          113937 non-null  float64\n",
      " 10  EstimatedEffectiveYield              84853 non-null   float64\n",
      " 11  EstimatedLoss                        84853 non-null   float64\n",
      " 12  EstimatedReturn                      84853 non-null   float64\n",
      " 13  ProsperRating (numeric)              84853 non-null   float64\n",
      " 14  ProsperRating (Alpha)                84853 non-null   object \n",
      " 15  ProsperScore                         84853 non-null   float64\n",
      " 16  ListingCategory (numeric)            113937 non-null  int64  \n",
      " 17  BorrowerState                        108422 non-null  object \n",
      " 18  Occupation                           110349 non-null  object \n",
      " 19  EmploymentStatus                     111682 non-null  object \n",
      " 20  EmploymentStatusDuration             106312 non-null  float64\n",
      " 21  IsBorrowerHomeowner                  113937 non-null  bool   \n",
      " 22  CurrentlyInGroup                     113937 non-null  bool   \n",
      " 23  GroupKey                             13341 non-null   object \n",
      " 24  DateCreditPulled                     113937 non-null  object \n",
      " 25  CreditScoreRangeLower                113346 non-null  float64\n",
      " 26  CreditScoreRangeUpper                113346 non-null  float64\n",
      " 27  FirstRecordedCreditLine              113240 non-null  object \n",
      " 28  CurrentCreditLines                   106333 non-null  float64\n",
      " 29  OpenCreditLines                      106333 non-null  float64\n",
      " 30  TotalCreditLinespast7years           113240 non-null  float64\n",
      " 31  OpenRevolvingAccounts                113937 non-null  int64  \n",
      " 32  OpenRevolvingMonthlyPayment          113937 non-null  float64\n",
      " 33  InquiriesLast6Months                 113240 non-null  float64\n",
      " 34  TotalInquiries                       112778 non-null  float64\n",
      " 35  CurrentDelinquencies                 113240 non-null  float64\n",
      " 36  AmountDelinquent                     106315 non-null  float64\n",
      " 37  DelinquenciesLast7Years              112947 non-null  float64\n",
      " 38  PublicRecordsLast10Years             113240 non-null  float64\n",
      " 39  PublicRecordsLast12Months            106333 non-null  float64\n",
      " 40  RevolvingCreditBalance               106333 non-null  float64\n",
      " 41  BankcardUtilization                  106333 non-null  float64\n",
      " 42  AvailableBankcardCredit              106393 non-null  float64\n",
      " 43  TotalTrades                          106393 non-null  float64\n",
      " 44  TradesNeverDelinquent (percentage)   106393 non-null  float64\n",
      " 45  TradesOpenedLast6Months              106393 non-null  float64\n",
      " 46  DebtToIncomeRatio                    105383 non-null  float64\n",
      " 47  IncomeRange                          113937 non-null  object \n",
      " 48  IncomeVerifiable                     113937 non-null  bool   \n",
      " 49  StatedMonthlyIncome                  113937 non-null  float64\n",
      " 50  LoanKey                              113937 non-null  object \n",
      " 51  TotalProsperLoans                    22085 non-null   float64\n",
      " 52  TotalProsperPaymentsBilled           22085 non-null   float64\n",
      " 53  OnTimeProsperPayments                22085 non-null   float64\n",
      " 54  ProsperPaymentsLessThanOneMonthLate  22085 non-null   float64\n",
      " 55  ProsperPaymentsOneMonthPlusLate      22085 non-null   float64\n",
      " 56  ProsperPrincipalBorrowed             22085 non-null   float64\n",
      " 57  ProsperPrincipalOutstanding          22085 non-null   float64\n",
      " 58  ScorexChangeAtTimeOfListing          18928 non-null   float64\n",
      " 59  LoanCurrentDaysDelinquent            113937 non-null  int64  \n",
      " 60  LoanFirstDefaultedCycleNumber        16952 non-null   float64\n",
      " 61  LoanMonthsSinceOrigination           113937 non-null  int64  \n",
      " 62  LoanNumber                           113937 non-null  int64  \n",
      " 63  LoanOriginalAmount                   113937 non-null  int64  \n",
      " 64  LoanOriginationDate                  113937 non-null  object \n",
      " 65  LoanOriginationQuarter               113937 non-null  object \n",
      " 66  MemberKey                            113937 non-null  object \n",
      " 67  MonthlyLoanPayment                   113937 non-null  float64\n",
      " 68  LP_CustomerPayments                  113937 non-null  float64\n",
      " 69  LP_CustomerPrincipalPayments         113937 non-null  float64\n",
      " 70  LP_InterestandFees                   113937 non-null  float64\n",
      " 71  LP_ServiceFees                       113937 non-null  float64\n",
      " 72  LP_CollectionFees                    113937 non-null  float64\n",
      " 73  LP_GrossPrincipalLoss                113937 non-null  float64\n",
      " 74  LP_NetPrincipalLoss                  113937 non-null  float64\n",
      " 75  LP_NonPrincipalRecoverypayments      113937 non-null  float64\n",
      " 76  PercentFunded                        113937 non-null  float64\n",
      " 77  Recommendations                      113937 non-null  int64  \n",
      " 78  InvestmentFromFriendsCount           113937 non-null  int64  \n",
      " 79  InvestmentFromFriendsAmount          113937 non-null  float64\n",
      " 80  Investors                            113937 non-null  int64  \n",
      "dtypes: bool(3), float64(50), int64(11), object(17)\n",
      "memory usage: 68.1+ MB\n"
     ]
    }
   ],
   "source": [
    "# information on the dataframe\n",
    "df.info()"
   ]
  },
  {
   "cell_type": "code",
   "execution_count": 7,
   "metadata": {},
   "outputs": [
    {
     "data": {
      "text/html": [
       "<div>\n",
       "<style scoped>\n",
       "    .dataframe tbody tr th:only-of-type {\n",
       "        vertical-align: middle;\n",
       "    }\n",
       "\n",
       "    .dataframe tbody tr th {\n",
       "        vertical-align: top;\n",
       "    }\n",
       "\n",
       "    .dataframe thead th {\n",
       "        text-align: right;\n",
       "    }\n",
       "</style>\n",
       "<table border=\"1\" class=\"dataframe\">\n",
       "  <thead>\n",
       "    <tr style=\"text-align: right;\">\n",
       "      <th></th>\n",
       "      <th>ListingNumber</th>\n",
       "      <th>Term</th>\n",
       "      <th>BorrowerAPR</th>\n",
       "      <th>BorrowerRate</th>\n",
       "      <th>LenderYield</th>\n",
       "      <th>EstimatedEffectiveYield</th>\n",
       "      <th>EstimatedLoss</th>\n",
       "      <th>EstimatedReturn</th>\n",
       "      <th>ProsperRating (numeric)</th>\n",
       "      <th>ProsperScore</th>\n",
       "      <th>...</th>\n",
       "      <th>LP_ServiceFees</th>\n",
       "      <th>LP_CollectionFees</th>\n",
       "      <th>LP_GrossPrincipalLoss</th>\n",
       "      <th>LP_NetPrincipalLoss</th>\n",
       "      <th>LP_NonPrincipalRecoverypayments</th>\n",
       "      <th>PercentFunded</th>\n",
       "      <th>Recommendations</th>\n",
       "      <th>InvestmentFromFriendsCount</th>\n",
       "      <th>InvestmentFromFriendsAmount</th>\n",
       "      <th>Investors</th>\n",
       "    </tr>\n",
       "  </thead>\n",
       "  <tbody>\n",
       "    <tr>\n",
       "      <th>count</th>\n",
       "      <td>1.139370e+05</td>\n",
       "      <td>113937.000000</td>\n",
       "      <td>113912.000000</td>\n",
       "      <td>113937.000000</td>\n",
       "      <td>113937.000000</td>\n",
       "      <td>84853.000000</td>\n",
       "      <td>84853.000000</td>\n",
       "      <td>84853.000000</td>\n",
       "      <td>84853.000000</td>\n",
       "      <td>84853.000000</td>\n",
       "      <td>...</td>\n",
       "      <td>113937.000000</td>\n",
       "      <td>113937.000000</td>\n",
       "      <td>113937.000000</td>\n",
       "      <td>113937.000000</td>\n",
       "      <td>113937.000000</td>\n",
       "      <td>113937.000000</td>\n",
       "      <td>113937.000000</td>\n",
       "      <td>113937.000000</td>\n",
       "      <td>113937.000000</td>\n",
       "      <td>113937.000000</td>\n",
       "    </tr>\n",
       "    <tr>\n",
       "      <th>mean</th>\n",
       "      <td>6.278857e+05</td>\n",
       "      <td>40.830248</td>\n",
       "      <td>0.218828</td>\n",
       "      <td>0.192764</td>\n",
       "      <td>0.182701</td>\n",
       "      <td>0.168661</td>\n",
       "      <td>0.080306</td>\n",
       "      <td>0.096068</td>\n",
       "      <td>4.072243</td>\n",
       "      <td>5.950067</td>\n",
       "      <td>...</td>\n",
       "      <td>-54.725641</td>\n",
       "      <td>-14.242698</td>\n",
       "      <td>700.446342</td>\n",
       "      <td>681.420499</td>\n",
       "      <td>25.142686</td>\n",
       "      <td>0.998584</td>\n",
       "      <td>0.048027</td>\n",
       "      <td>0.023460</td>\n",
       "      <td>16.550751</td>\n",
       "      <td>80.475228</td>\n",
       "    </tr>\n",
       "    <tr>\n",
       "      <th>std</th>\n",
       "      <td>3.280762e+05</td>\n",
       "      <td>10.436212</td>\n",
       "      <td>0.080364</td>\n",
       "      <td>0.074818</td>\n",
       "      <td>0.074516</td>\n",
       "      <td>0.068467</td>\n",
       "      <td>0.046764</td>\n",
       "      <td>0.030403</td>\n",
       "      <td>1.673227</td>\n",
       "      <td>2.376501</td>\n",
       "      <td>...</td>\n",
       "      <td>60.675425</td>\n",
       "      <td>109.232758</td>\n",
       "      <td>2388.513831</td>\n",
       "      <td>2357.167068</td>\n",
       "      <td>275.657937</td>\n",
       "      <td>0.017919</td>\n",
       "      <td>0.332353</td>\n",
       "      <td>0.232412</td>\n",
       "      <td>294.545422</td>\n",
       "      <td>103.239020</td>\n",
       "    </tr>\n",
       "    <tr>\n",
       "      <th>min</th>\n",
       "      <td>4.000000e+00</td>\n",
       "      <td>12.000000</td>\n",
       "      <td>0.006530</td>\n",
       "      <td>0.000000</td>\n",
       "      <td>-0.010000</td>\n",
       "      <td>-0.182700</td>\n",
       "      <td>0.004900</td>\n",
       "      <td>-0.182700</td>\n",
       "      <td>1.000000</td>\n",
       "      <td>1.000000</td>\n",
       "      <td>...</td>\n",
       "      <td>-664.870000</td>\n",
       "      <td>-9274.750000</td>\n",
       "      <td>-94.200000</td>\n",
       "      <td>-954.550000</td>\n",
       "      <td>0.000000</td>\n",
       "      <td>0.700000</td>\n",
       "      <td>0.000000</td>\n",
       "      <td>0.000000</td>\n",
       "      <td>0.000000</td>\n",
       "      <td>1.000000</td>\n",
       "    </tr>\n",
       "    <tr>\n",
       "      <th>25%</th>\n",
       "      <td>4.009190e+05</td>\n",
       "      <td>36.000000</td>\n",
       "      <td>0.156290</td>\n",
       "      <td>0.134000</td>\n",
       "      <td>0.124200</td>\n",
       "      <td>0.115670</td>\n",
       "      <td>0.042400</td>\n",
       "      <td>0.074080</td>\n",
       "      <td>3.000000</td>\n",
       "      <td>4.000000</td>\n",
       "      <td>...</td>\n",
       "      <td>-73.180000</td>\n",
       "      <td>0.000000</td>\n",
       "      <td>0.000000</td>\n",
       "      <td>0.000000</td>\n",
       "      <td>0.000000</td>\n",
       "      <td>1.000000</td>\n",
       "      <td>0.000000</td>\n",
       "      <td>0.000000</td>\n",
       "      <td>0.000000</td>\n",
       "      <td>2.000000</td>\n",
       "    </tr>\n",
       "    <tr>\n",
       "      <th>50%</th>\n",
       "      <td>6.005540e+05</td>\n",
       "      <td>36.000000</td>\n",
       "      <td>0.209760</td>\n",
       "      <td>0.184000</td>\n",
       "      <td>0.173000</td>\n",
       "      <td>0.161500</td>\n",
       "      <td>0.072400</td>\n",
       "      <td>0.091700</td>\n",
       "      <td>4.000000</td>\n",
       "      <td>6.000000</td>\n",
       "      <td>...</td>\n",
       "      <td>-34.440000</td>\n",
       "      <td>0.000000</td>\n",
       "      <td>0.000000</td>\n",
       "      <td>0.000000</td>\n",
       "      <td>0.000000</td>\n",
       "      <td>1.000000</td>\n",
       "      <td>0.000000</td>\n",
       "      <td>0.000000</td>\n",
       "      <td>0.000000</td>\n",
       "      <td>44.000000</td>\n",
       "    </tr>\n",
       "    <tr>\n",
       "      <th>75%</th>\n",
       "      <td>8.926340e+05</td>\n",
       "      <td>36.000000</td>\n",
       "      <td>0.283810</td>\n",
       "      <td>0.250000</td>\n",
       "      <td>0.240000</td>\n",
       "      <td>0.224300</td>\n",
       "      <td>0.112000</td>\n",
       "      <td>0.116600</td>\n",
       "      <td>5.000000</td>\n",
       "      <td>8.000000</td>\n",
       "      <td>...</td>\n",
       "      <td>-13.920000</td>\n",
       "      <td>0.000000</td>\n",
       "      <td>0.000000</td>\n",
       "      <td>0.000000</td>\n",
       "      <td>0.000000</td>\n",
       "      <td>1.000000</td>\n",
       "      <td>0.000000</td>\n",
       "      <td>0.000000</td>\n",
       "      <td>0.000000</td>\n",
       "      <td>115.000000</td>\n",
       "    </tr>\n",
       "    <tr>\n",
       "      <th>max</th>\n",
       "      <td>1.255725e+06</td>\n",
       "      <td>60.000000</td>\n",
       "      <td>0.512290</td>\n",
       "      <td>0.497500</td>\n",
       "      <td>0.492500</td>\n",
       "      <td>0.319900</td>\n",
       "      <td>0.366000</td>\n",
       "      <td>0.283700</td>\n",
       "      <td>7.000000</td>\n",
       "      <td>11.000000</td>\n",
       "      <td>...</td>\n",
       "      <td>32.060000</td>\n",
       "      <td>0.000000</td>\n",
       "      <td>25000.000000</td>\n",
       "      <td>25000.000000</td>\n",
       "      <td>21117.900000</td>\n",
       "      <td>1.012500</td>\n",
       "      <td>39.000000</td>\n",
       "      <td>33.000000</td>\n",
       "      <td>25000.000000</td>\n",
       "      <td>1189.000000</td>\n",
       "    </tr>\n",
       "  </tbody>\n",
       "</table>\n",
       "<p>8 rows × 61 columns</p>\n",
       "</div>"
      ],
      "text/plain": [
       "       ListingNumber           Term    BorrowerAPR   BorrowerRate  \\\n",
       "count   1.139370e+05  113937.000000  113912.000000  113937.000000   \n",
       "mean    6.278857e+05      40.830248       0.218828       0.192764   \n",
       "std     3.280762e+05      10.436212       0.080364       0.074818   \n",
       "min     4.000000e+00      12.000000       0.006530       0.000000   \n",
       "25%     4.009190e+05      36.000000       0.156290       0.134000   \n",
       "50%     6.005540e+05      36.000000       0.209760       0.184000   \n",
       "75%     8.926340e+05      36.000000       0.283810       0.250000   \n",
       "max     1.255725e+06      60.000000       0.512290       0.497500   \n",
       "\n",
       "         LenderYield  EstimatedEffectiveYield  EstimatedLoss  EstimatedReturn  \\\n",
       "count  113937.000000             84853.000000   84853.000000     84853.000000   \n",
       "mean        0.182701                 0.168661       0.080306         0.096068   \n",
       "std         0.074516                 0.068467       0.046764         0.030403   \n",
       "min        -0.010000                -0.182700       0.004900        -0.182700   \n",
       "25%         0.124200                 0.115670       0.042400         0.074080   \n",
       "50%         0.173000                 0.161500       0.072400         0.091700   \n",
       "75%         0.240000                 0.224300       0.112000         0.116600   \n",
       "max         0.492500                 0.319900       0.366000         0.283700   \n",
       "\n",
       "       ProsperRating (numeric)  ProsperScore  ...  LP_ServiceFees  \\\n",
       "count             84853.000000  84853.000000  ...   113937.000000   \n",
       "mean                  4.072243      5.950067  ...      -54.725641   \n",
       "std                   1.673227      2.376501  ...       60.675425   \n",
       "min                   1.000000      1.000000  ...     -664.870000   \n",
       "25%                   3.000000      4.000000  ...      -73.180000   \n",
       "50%                   4.000000      6.000000  ...      -34.440000   \n",
       "75%                   5.000000      8.000000  ...      -13.920000   \n",
       "max                   7.000000     11.000000  ...       32.060000   \n",
       "\n",
       "       LP_CollectionFees  LP_GrossPrincipalLoss  LP_NetPrincipalLoss  \\\n",
       "count      113937.000000          113937.000000        113937.000000   \n",
       "mean          -14.242698             700.446342           681.420499   \n",
       "std           109.232758            2388.513831          2357.167068   \n",
       "min         -9274.750000             -94.200000          -954.550000   \n",
       "25%             0.000000               0.000000             0.000000   \n",
       "50%             0.000000               0.000000             0.000000   \n",
       "75%             0.000000               0.000000             0.000000   \n",
       "max             0.000000           25000.000000         25000.000000   \n",
       "\n",
       "       LP_NonPrincipalRecoverypayments  PercentFunded  Recommendations  \\\n",
       "count                    113937.000000  113937.000000    113937.000000   \n",
       "mean                         25.142686       0.998584         0.048027   \n",
       "std                         275.657937       0.017919         0.332353   \n",
       "min                           0.000000       0.700000         0.000000   \n",
       "25%                           0.000000       1.000000         0.000000   \n",
       "50%                           0.000000       1.000000         0.000000   \n",
       "75%                           0.000000       1.000000         0.000000   \n",
       "max                       21117.900000       1.012500        39.000000   \n",
       "\n",
       "       InvestmentFromFriendsCount  InvestmentFromFriendsAmount      Investors  \n",
       "count               113937.000000                113937.000000  113937.000000  \n",
       "mean                     0.023460                    16.550751      80.475228  \n",
       "std                      0.232412                   294.545422     103.239020  \n",
       "min                      0.000000                     0.000000       1.000000  \n",
       "25%                      0.000000                     0.000000       2.000000  \n",
       "50%                      0.000000                     0.000000      44.000000  \n",
       "75%                      0.000000                     0.000000     115.000000  \n",
       "max                     33.000000                 25000.000000    1189.000000  \n",
       "\n",
       "[8 rows x 61 columns]"
      ]
     },
     "execution_count": 7,
     "metadata": {},
     "output_type": "execute_result"
    }
   ],
   "source": [
    "# the summary statistics of the dataframe\n",
    "df.describe()"
   ]
  },
  {
   "cell_type": "code",
   "execution_count": 8,
   "metadata": {
    "scrolled": true
   },
   "outputs": [
    {
     "data": {
      "text/plain": [
       "ListingKey                         0\n",
       "ListingNumber                      0\n",
       "ListingCreationDate                0\n",
       "CreditGrade                    84984\n",
       "Term                               0\n",
       "                               ...  \n",
       "PercentFunded                      0\n",
       "Recommendations                    0\n",
       "InvestmentFromFriendsCount         0\n",
       "InvestmentFromFriendsAmount        0\n",
       "Investors                          0\n",
       "Length: 81, dtype: int64"
      ]
     },
     "execution_count": 8,
     "metadata": {},
     "output_type": "execute_result"
    }
   ],
   "source": [
    "# the sum of missing values in each column\n",
    "df.isnull().sum()"
   ]
  },
  {
   "cell_type": "code",
   "execution_count": 9,
   "metadata": {},
   "outputs": [
    {
     "data": {
      "text/plain": [
       "0"
      ]
     },
     "execution_count": 9,
     "metadata": {},
     "output_type": "execute_result"
    }
   ],
   "source": [
    "# check for duplicate rows\n",
    "sum(df.duplicated())"
   ]
  },
  {
   "cell_type": "code",
   "execution_count": 10,
   "metadata": {},
   "outputs": [],
   "source": [
    "# select 13 variables for exploration \n",
    "df_1 = df[['LoanKey', 'Term', 'LoanStatus', 'BorrowerAPR','BorrowerRate', 'ListingCategory (numeric)', 'EmploymentStatus', \n",
    "           'IsBorrowerHomeowner', 'DebtToIncomeRatio', 'IncomeRange', 'IncomeVerifiable', 'StatedMonthlyIncome', \n",
    "           'LoanOriginalAmount', 'MonthlyLoanPayment', 'Investors']]"
   ]
  },
  {
   "cell_type": "code",
   "execution_count": 11,
   "metadata": {
    "scrolled": true
   },
   "outputs": [
    {
     "data": {
      "text/html": [
       "<div>\n",
       "<style scoped>\n",
       "    .dataframe tbody tr th:only-of-type {\n",
       "        vertical-align: middle;\n",
       "    }\n",
       "\n",
       "    .dataframe tbody tr th {\n",
       "        vertical-align: top;\n",
       "    }\n",
       "\n",
       "    .dataframe thead th {\n",
       "        text-align: right;\n",
       "    }\n",
       "</style>\n",
       "<table border=\"1\" class=\"dataframe\">\n",
       "  <thead>\n",
       "    <tr style=\"text-align: right;\">\n",
       "      <th></th>\n",
       "      <th>LoanKey</th>\n",
       "      <th>Term</th>\n",
       "      <th>LoanStatus</th>\n",
       "      <th>BorrowerAPR</th>\n",
       "      <th>BorrowerRate</th>\n",
       "      <th>ListingCategory (numeric)</th>\n",
       "      <th>EmploymentStatus</th>\n",
       "      <th>IsBorrowerHomeowner</th>\n",
       "      <th>DebtToIncomeRatio</th>\n",
       "      <th>IncomeRange</th>\n",
       "      <th>IncomeVerifiable</th>\n",
       "      <th>StatedMonthlyIncome</th>\n",
       "      <th>LoanOriginalAmount</th>\n",
       "      <th>MonthlyLoanPayment</th>\n",
       "      <th>Investors</th>\n",
       "    </tr>\n",
       "  </thead>\n",
       "  <tbody>\n",
       "    <tr>\n",
       "      <th>0</th>\n",
       "      <td>E33A3400205839220442E84</td>\n",
       "      <td>36</td>\n",
       "      <td>Completed</td>\n",
       "      <td>0.16516</td>\n",
       "      <td>0.1580</td>\n",
       "      <td>0</td>\n",
       "      <td>Self-employed</td>\n",
       "      <td>True</td>\n",
       "      <td>0.17</td>\n",
       "      <td>$25,000-49,999</td>\n",
       "      <td>True</td>\n",
       "      <td>3083.333333</td>\n",
       "      <td>9425</td>\n",
       "      <td>330.43</td>\n",
       "      <td>258</td>\n",
       "    </tr>\n",
       "    <tr>\n",
       "      <th>1</th>\n",
       "      <td>9E3B37071505919926B1D82</td>\n",
       "      <td>36</td>\n",
       "      <td>Current</td>\n",
       "      <td>0.12016</td>\n",
       "      <td>0.0920</td>\n",
       "      <td>2</td>\n",
       "      <td>Employed</td>\n",
       "      <td>False</td>\n",
       "      <td>0.18</td>\n",
       "      <td>$50,000-74,999</td>\n",
       "      <td>True</td>\n",
       "      <td>6125.000000</td>\n",
       "      <td>10000</td>\n",
       "      <td>318.93</td>\n",
       "      <td>1</td>\n",
       "    </tr>\n",
       "    <tr>\n",
       "      <th>2</th>\n",
       "      <td>6954337960046817851BCB2</td>\n",
       "      <td>36</td>\n",
       "      <td>Completed</td>\n",
       "      <td>0.28269</td>\n",
       "      <td>0.2750</td>\n",
       "      <td>0</td>\n",
       "      <td>Not available</td>\n",
       "      <td>False</td>\n",
       "      <td>0.06</td>\n",
       "      <td>Not displayed</td>\n",
       "      <td>True</td>\n",
       "      <td>2083.333333</td>\n",
       "      <td>3001</td>\n",
       "      <td>123.32</td>\n",
       "      <td>41</td>\n",
       "    </tr>\n",
       "    <tr>\n",
       "      <th>3</th>\n",
       "      <td>A0393664465886295619C51</td>\n",
       "      <td>36</td>\n",
       "      <td>Current</td>\n",
       "      <td>0.12528</td>\n",
       "      <td>0.0974</td>\n",
       "      <td>16</td>\n",
       "      <td>Employed</td>\n",
       "      <td>True</td>\n",
       "      <td>0.15</td>\n",
       "      <td>$25,000-49,999</td>\n",
       "      <td>True</td>\n",
       "      <td>2875.000000</td>\n",
       "      <td>10000</td>\n",
       "      <td>321.45</td>\n",
       "      <td>158</td>\n",
       "    </tr>\n",
       "    <tr>\n",
       "      <th>4</th>\n",
       "      <td>A180369302188889200689E</td>\n",
       "      <td>36</td>\n",
       "      <td>Current</td>\n",
       "      <td>0.24614</td>\n",
       "      <td>0.2085</td>\n",
       "      <td>2</td>\n",
       "      <td>Employed</td>\n",
       "      <td>True</td>\n",
       "      <td>0.26</td>\n",
       "      <td>$100,000+</td>\n",
       "      <td>True</td>\n",
       "      <td>9583.333333</td>\n",
       "      <td>15000</td>\n",
       "      <td>563.97</td>\n",
       "      <td>20</td>\n",
       "    </tr>\n",
       "  </tbody>\n",
       "</table>\n",
       "</div>"
      ],
      "text/plain": [
       "                   LoanKey  Term LoanStatus  BorrowerAPR  BorrowerRate  \\\n",
       "0  E33A3400205839220442E84    36  Completed      0.16516        0.1580   \n",
       "1  9E3B37071505919926B1D82    36    Current      0.12016        0.0920   \n",
       "2  6954337960046817851BCB2    36  Completed      0.28269        0.2750   \n",
       "3  A0393664465886295619C51    36    Current      0.12528        0.0974   \n",
       "4  A180369302188889200689E    36    Current      0.24614        0.2085   \n",
       "\n",
       "   ListingCategory (numeric) EmploymentStatus  IsBorrowerHomeowner  \\\n",
       "0                          0    Self-employed                 True   \n",
       "1                          2         Employed                False   \n",
       "2                          0    Not available                False   \n",
       "3                         16         Employed                 True   \n",
       "4                          2         Employed                 True   \n",
       "\n",
       "   DebtToIncomeRatio     IncomeRange  IncomeVerifiable  StatedMonthlyIncome  \\\n",
       "0               0.17  $25,000-49,999              True          3083.333333   \n",
       "1               0.18  $50,000-74,999              True          6125.000000   \n",
       "2               0.06   Not displayed              True          2083.333333   \n",
       "3               0.15  $25,000-49,999              True          2875.000000   \n",
       "4               0.26       $100,000+              True          9583.333333   \n",
       "\n",
       "   LoanOriginalAmount  MonthlyLoanPayment  Investors  \n",
       "0                9425              330.43        258  \n",
       "1               10000              318.93          1  \n",
       "2                3001              123.32         41  \n",
       "3               10000              321.45        158  \n",
       "4               15000              563.97         20  "
      ]
     },
     "execution_count": 11,
     "metadata": {},
     "output_type": "execute_result"
    }
   ],
   "source": [
    "# the first 5 rows of the dataframe for exploration\n",
    "df_1.head()"
   ]
  },
  {
   "cell_type": "code",
   "execution_count": 12,
   "metadata": {},
   "outputs": [
    {
     "data": {
      "text/html": [
       "<div>\n",
       "<style scoped>\n",
       "    .dataframe tbody tr th:only-of-type {\n",
       "        vertical-align: middle;\n",
       "    }\n",
       "\n",
       "    .dataframe tbody tr th {\n",
       "        vertical-align: top;\n",
       "    }\n",
       "\n",
       "    .dataframe thead th {\n",
       "        text-align: right;\n",
       "    }\n",
       "</style>\n",
       "<table border=\"1\" class=\"dataframe\">\n",
       "  <thead>\n",
       "    <tr style=\"text-align: right;\">\n",
       "      <th></th>\n",
       "      <th>LoanKey</th>\n",
       "      <th>Term</th>\n",
       "      <th>LoanStatus</th>\n",
       "      <th>BorrowerAPR</th>\n",
       "      <th>BorrowerRate</th>\n",
       "      <th>ListingCategory (numeric)</th>\n",
       "      <th>EmploymentStatus</th>\n",
       "      <th>IsBorrowerHomeowner</th>\n",
       "      <th>DebtToIncomeRatio</th>\n",
       "      <th>IncomeRange</th>\n",
       "      <th>IncomeVerifiable</th>\n",
       "      <th>StatedMonthlyIncome</th>\n",
       "      <th>LoanOriginalAmount</th>\n",
       "      <th>MonthlyLoanPayment</th>\n",
       "      <th>Investors</th>\n",
       "    </tr>\n",
       "  </thead>\n",
       "  <tbody>\n",
       "    <tr>\n",
       "      <th>113932</th>\n",
       "      <td>9BD7367919051593140DB62</td>\n",
       "      <td>36</td>\n",
       "      <td>Current</td>\n",
       "      <td>0.22354</td>\n",
       "      <td>0.1864</td>\n",
       "      <td>1</td>\n",
       "      <td>Employed</td>\n",
       "      <td>True</td>\n",
       "      <td>0.13</td>\n",
       "      <td>$50,000-74,999</td>\n",
       "      <td>True</td>\n",
       "      <td>4333.333333</td>\n",
       "      <td>10000</td>\n",
       "      <td>364.74</td>\n",
       "      <td>1</td>\n",
       "    </tr>\n",
       "    <tr>\n",
       "      <th>113933</th>\n",
       "      <td>62D93634569816897D5A276</td>\n",
       "      <td>36</td>\n",
       "      <td>FinalPaymentInProgress</td>\n",
       "      <td>0.13220</td>\n",
       "      <td>0.1110</td>\n",
       "      <td>7</td>\n",
       "      <td>Employed</td>\n",
       "      <td>True</td>\n",
       "      <td>0.11</td>\n",
       "      <td>$75,000-99,999</td>\n",
       "      <td>True</td>\n",
       "      <td>8041.666667</td>\n",
       "      <td>2000</td>\n",
       "      <td>65.57</td>\n",
       "      <td>22</td>\n",
       "    </tr>\n",
       "    <tr>\n",
       "      <th>113934</th>\n",
       "      <td>DD1A370200396006300ACA0</td>\n",
       "      <td>60</td>\n",
       "      <td>Current</td>\n",
       "      <td>0.23984</td>\n",
       "      <td>0.2150</td>\n",
       "      <td>1</td>\n",
       "      <td>Employed</td>\n",
       "      <td>True</td>\n",
       "      <td>0.51</td>\n",
       "      <td>$25,000-49,999</td>\n",
       "      <td>True</td>\n",
       "      <td>2875.000000</td>\n",
       "      <td>10000</td>\n",
       "      <td>273.35</td>\n",
       "      <td>119</td>\n",
       "    </tr>\n",
       "    <tr>\n",
       "      <th>113935</th>\n",
       "      <td>589536350469116027ED11B</td>\n",
       "      <td>60</td>\n",
       "      <td>Completed</td>\n",
       "      <td>0.28408</td>\n",
       "      <td>0.2605</td>\n",
       "      <td>2</td>\n",
       "      <td>Full-time</td>\n",
       "      <td>True</td>\n",
       "      <td>0.48</td>\n",
       "      <td>$25,000-49,999</td>\n",
       "      <td>True</td>\n",
       "      <td>3875.000000</td>\n",
       "      <td>15000</td>\n",
       "      <td>449.55</td>\n",
       "      <td>274</td>\n",
       "    </tr>\n",
       "    <tr>\n",
       "      <th>113936</th>\n",
       "      <td>00AF3704550953269A64E40</td>\n",
       "      <td>36</td>\n",
       "      <td>Current</td>\n",
       "      <td>0.13189</td>\n",
       "      <td>0.1039</td>\n",
       "      <td>1</td>\n",
       "      <td>Employed</td>\n",
       "      <td>False</td>\n",
       "      <td>0.23</td>\n",
       "      <td>$50,000-74,999</td>\n",
       "      <td>True</td>\n",
       "      <td>4583.333333</td>\n",
       "      <td>2000</td>\n",
       "      <td>64.90</td>\n",
       "      <td>1</td>\n",
       "    </tr>\n",
       "  </tbody>\n",
       "</table>\n",
       "</div>"
      ],
      "text/plain": [
       "                        LoanKey  Term              LoanStatus  BorrowerAPR  \\\n",
       "113932  9BD7367919051593140DB62    36                 Current      0.22354   \n",
       "113933  62D93634569816897D5A276    36  FinalPaymentInProgress      0.13220   \n",
       "113934  DD1A370200396006300ACA0    60                 Current      0.23984   \n",
       "113935  589536350469116027ED11B    60               Completed      0.28408   \n",
       "113936  00AF3704550953269A64E40    36                 Current      0.13189   \n",
       "\n",
       "        BorrowerRate  ListingCategory (numeric) EmploymentStatus  \\\n",
       "113932        0.1864                          1         Employed   \n",
       "113933        0.1110                          7         Employed   \n",
       "113934        0.2150                          1         Employed   \n",
       "113935        0.2605                          2        Full-time   \n",
       "113936        0.1039                          1         Employed   \n",
       "\n",
       "        IsBorrowerHomeowner  DebtToIncomeRatio     IncomeRange  \\\n",
       "113932                 True               0.13  $50,000-74,999   \n",
       "113933                 True               0.11  $75,000-99,999   \n",
       "113934                 True               0.51  $25,000-49,999   \n",
       "113935                 True               0.48  $25,000-49,999   \n",
       "113936                False               0.23  $50,000-74,999   \n",
       "\n",
       "        IncomeVerifiable  StatedMonthlyIncome  LoanOriginalAmount  \\\n",
       "113932              True          4333.333333               10000   \n",
       "113933              True          8041.666667                2000   \n",
       "113934              True          2875.000000               10000   \n",
       "113935              True          3875.000000               15000   \n",
       "113936              True          4583.333333                2000   \n",
       "\n",
       "        MonthlyLoanPayment  Investors  \n",
       "113932              364.74          1  \n",
       "113933               65.57         22  \n",
       "113934              273.35        119  \n",
       "113935              449.55        274  \n",
       "113936               64.90          1  "
      ]
     },
     "execution_count": 12,
     "metadata": {},
     "output_type": "execute_result"
    }
   ],
   "source": [
    "# the last 5 rows of the dataframe for exploration\n",
    "df_1.tail()"
   ]
  },
  {
   "cell_type": "code",
   "execution_count": 13,
   "metadata": {},
   "outputs": [
    {
     "data": {
      "text/html": [
       "<div>\n",
       "<style scoped>\n",
       "    .dataframe tbody tr th:only-of-type {\n",
       "        vertical-align: middle;\n",
       "    }\n",
       "\n",
       "    .dataframe tbody tr th {\n",
       "        vertical-align: top;\n",
       "    }\n",
       "\n",
       "    .dataframe thead th {\n",
       "        text-align: right;\n",
       "    }\n",
       "</style>\n",
       "<table border=\"1\" class=\"dataframe\">\n",
       "  <thead>\n",
       "    <tr style=\"text-align: right;\">\n",
       "      <th></th>\n",
       "      <th>LoanKey</th>\n",
       "      <th>Term</th>\n",
       "      <th>LoanStatus</th>\n",
       "      <th>BorrowerAPR</th>\n",
       "      <th>BorrowerRate</th>\n",
       "      <th>ListingCategory (numeric)</th>\n",
       "      <th>EmploymentStatus</th>\n",
       "      <th>IsBorrowerHomeowner</th>\n",
       "      <th>DebtToIncomeRatio</th>\n",
       "      <th>IncomeRange</th>\n",
       "      <th>IncomeVerifiable</th>\n",
       "      <th>StatedMonthlyIncome</th>\n",
       "      <th>LoanOriginalAmount</th>\n",
       "      <th>MonthlyLoanPayment</th>\n",
       "      <th>Investors</th>\n",
       "    </tr>\n",
       "  </thead>\n",
       "  <tbody>\n",
       "    <tr>\n",
       "      <th>107538</th>\n",
       "      <td>D80F362020203708874EBCB</td>\n",
       "      <td>36</td>\n",
       "      <td>Completed</td>\n",
       "      <td>0.29510</td>\n",
       "      <td>0.2599</td>\n",
       "      <td>1</td>\n",
       "      <td>Employed</td>\n",
       "      <td>False</td>\n",
       "      <td>0.18</td>\n",
       "      <td>$25,000-49,999</td>\n",
       "      <td>True</td>\n",
       "      <td>3333.333333</td>\n",
       "      <td>3883</td>\n",
       "      <td>156.42</td>\n",
       "      <td>73</td>\n",
       "    </tr>\n",
       "    <tr>\n",
       "      <th>22063</th>\n",
       "      <td>C8B137009891908347F856E</td>\n",
       "      <td>36</td>\n",
       "      <td>Current</td>\n",
       "      <td>0.33204</td>\n",
       "      <td>0.2924</td>\n",
       "      <td>1</td>\n",
       "      <td>Employed</td>\n",
       "      <td>True</td>\n",
       "      <td>0.36</td>\n",
       "      <td>$75,000-99,999</td>\n",
       "      <td>True</td>\n",
       "      <td>7083.333333</td>\n",
       "      <td>4000</td>\n",
       "      <td>168.15</td>\n",
       "      <td>1</td>\n",
       "    </tr>\n",
       "    <tr>\n",
       "      <th>20434</th>\n",
       "      <td>4C2A37022042869098EF36F</td>\n",
       "      <td>36</td>\n",
       "      <td>Current</td>\n",
       "      <td>0.11563</td>\n",
       "      <td>0.0879</td>\n",
       "      <td>1</td>\n",
       "      <td>Self-employed</td>\n",
       "      <td>False</td>\n",
       "      <td>NaN</td>\n",
       "      <td>$75,000-99,999</td>\n",
       "      <td>False</td>\n",
       "      <td>6250.000000</td>\n",
       "      <td>15000</td>\n",
       "      <td>475.53</td>\n",
       "      <td>239</td>\n",
       "    </tr>\n",
       "    <tr>\n",
       "      <th>24390</th>\n",
       "      <td>A27F36360702098117F3DEA</td>\n",
       "      <td>12</td>\n",
       "      <td>Chargedoff</td>\n",
       "      <td>0.29287</td>\n",
       "      <td>0.1936</td>\n",
       "      <td>1</td>\n",
       "      <td>Employed</td>\n",
       "      <td>False</td>\n",
       "      <td>0.37</td>\n",
       "      <td>$25,000-49,999</td>\n",
       "      <td>True</td>\n",
       "      <td>3750.000000</td>\n",
       "      <td>4000</td>\n",
       "      <td>369.31</td>\n",
       "      <td>37</td>\n",
       "    </tr>\n",
       "    <tr>\n",
       "      <th>32750</th>\n",
       "      <td>BC45367420707323434D7D5</td>\n",
       "      <td>36</td>\n",
       "      <td>Past Due (31-60 days)</td>\n",
       "      <td>0.23530</td>\n",
       "      <td>0.1979</td>\n",
       "      <td>7</td>\n",
       "      <td>Employed</td>\n",
       "      <td>False</td>\n",
       "      <td>0.23</td>\n",
       "      <td>$50,000-74,999</td>\n",
       "      <td>True</td>\n",
       "      <td>5000.000000</td>\n",
       "      <td>13000</td>\n",
       "      <td>481.74</td>\n",
       "      <td>132</td>\n",
       "    </tr>\n",
       "    <tr>\n",
       "      <th>96456</th>\n",
       "      <td>DE5F3662448917655528BBD</td>\n",
       "      <td>12</td>\n",
       "      <td>Completed</td>\n",
       "      <td>0.25214</td>\n",
       "      <td>0.1739</td>\n",
       "      <td>3</td>\n",
       "      <td>Employed</td>\n",
       "      <td>True</td>\n",
       "      <td>0.73</td>\n",
       "      <td>$25,000-49,999</td>\n",
       "      <td>True</td>\n",
       "      <td>3473.583333</td>\n",
       "      <td>15000</td>\n",
       "      <td>1370.85</td>\n",
       "      <td>135</td>\n",
       "    </tr>\n",
       "    <tr>\n",
       "      <th>70672</th>\n",
       "      <td>AAAA36912239814601357BE</td>\n",
       "      <td>60</td>\n",
       "      <td>Current</td>\n",
       "      <td>0.29341</td>\n",
       "      <td>0.2672</td>\n",
       "      <td>1</td>\n",
       "      <td>Employed</td>\n",
       "      <td>False</td>\n",
       "      <td>0.12</td>\n",
       "      <td>$75,000-99,999</td>\n",
       "      <td>True</td>\n",
       "      <td>8083.333333</td>\n",
       "      <td>12500</td>\n",
       "      <td>379.60</td>\n",
       "      <td>1</td>\n",
       "    </tr>\n",
       "    <tr>\n",
       "      <th>7861</th>\n",
       "      <td>0BF73418984253212D4D456</td>\n",
       "      <td>36</td>\n",
       "      <td>Completed</td>\n",
       "      <td>0.15226</td>\n",
       "      <td>0.1380</td>\n",
       "      <td>1</td>\n",
       "      <td>Full-time</td>\n",
       "      <td>True</td>\n",
       "      <td>0.30</td>\n",
       "      <td>$75,000-99,999</td>\n",
       "      <td>True</td>\n",
       "      <td>6250.000000</td>\n",
       "      <td>7000</td>\n",
       "      <td>238.56</td>\n",
       "      <td>235</td>\n",
       "    </tr>\n",
       "    <tr>\n",
       "      <th>58697</th>\n",
       "      <td>4B7F36943071613920D4CDC</td>\n",
       "      <td>36</td>\n",
       "      <td>Current</td>\n",
       "      <td>0.21290</td>\n",
       "      <td>0.1760</td>\n",
       "      <td>2</td>\n",
       "      <td>Employed</td>\n",
       "      <td>False</td>\n",
       "      <td>0.15</td>\n",
       "      <td>$25,000-49,999</td>\n",
       "      <td>True</td>\n",
       "      <td>3750.000000</td>\n",
       "      <td>10000</td>\n",
       "      <td>359.52</td>\n",
       "      <td>64</td>\n",
       "    </tr>\n",
       "    <tr>\n",
       "      <th>84031</th>\n",
       "      <td>5CBA364601443313049E4FF</td>\n",
       "      <td>36</td>\n",
       "      <td>Completed</td>\n",
       "      <td>0.24246</td>\n",
       "      <td>0.2049</td>\n",
       "      <td>14</td>\n",
       "      <td>Employed</td>\n",
       "      <td>True</td>\n",
       "      <td>0.16</td>\n",
       "      <td>$1-24,999</td>\n",
       "      <td>True</td>\n",
       "      <td>2000.000000</td>\n",
       "      <td>7000</td>\n",
       "      <td>261.90</td>\n",
       "      <td>140</td>\n",
       "    </tr>\n",
       "  </tbody>\n",
       "</table>\n",
       "</div>"
      ],
      "text/plain": [
       "                        LoanKey  Term             LoanStatus  BorrowerAPR  \\\n",
       "107538  D80F362020203708874EBCB    36              Completed      0.29510   \n",
       "22063   C8B137009891908347F856E    36                Current      0.33204   \n",
       "20434   4C2A37022042869098EF36F    36                Current      0.11563   \n",
       "24390   A27F36360702098117F3DEA    12             Chargedoff      0.29287   \n",
       "32750   BC45367420707323434D7D5    36  Past Due (31-60 days)      0.23530   \n",
       "96456   DE5F3662448917655528BBD    12              Completed      0.25214   \n",
       "70672   AAAA36912239814601357BE    60                Current      0.29341   \n",
       "7861    0BF73418984253212D4D456    36              Completed      0.15226   \n",
       "58697   4B7F36943071613920D4CDC    36                Current      0.21290   \n",
       "84031   5CBA364601443313049E4FF    36              Completed      0.24246   \n",
       "\n",
       "        BorrowerRate  ListingCategory (numeric) EmploymentStatus  \\\n",
       "107538        0.2599                          1         Employed   \n",
       "22063         0.2924                          1         Employed   \n",
       "20434         0.0879                          1    Self-employed   \n",
       "24390         0.1936                          1         Employed   \n",
       "32750         0.1979                          7         Employed   \n",
       "96456         0.1739                          3         Employed   \n",
       "70672         0.2672                          1         Employed   \n",
       "7861          0.1380                          1        Full-time   \n",
       "58697         0.1760                          2         Employed   \n",
       "84031         0.2049                         14         Employed   \n",
       "\n",
       "        IsBorrowerHomeowner  DebtToIncomeRatio     IncomeRange  \\\n",
       "107538                False               0.18  $25,000-49,999   \n",
       "22063                  True               0.36  $75,000-99,999   \n",
       "20434                 False                NaN  $75,000-99,999   \n",
       "24390                 False               0.37  $25,000-49,999   \n",
       "32750                 False               0.23  $50,000-74,999   \n",
       "96456                  True               0.73  $25,000-49,999   \n",
       "70672                 False               0.12  $75,000-99,999   \n",
       "7861                   True               0.30  $75,000-99,999   \n",
       "58697                 False               0.15  $25,000-49,999   \n",
       "84031                  True               0.16       $1-24,999   \n",
       "\n",
       "        IncomeVerifiable  StatedMonthlyIncome  LoanOriginalAmount  \\\n",
       "107538              True          3333.333333                3883   \n",
       "22063               True          7083.333333                4000   \n",
       "20434              False          6250.000000               15000   \n",
       "24390               True          3750.000000                4000   \n",
       "32750               True          5000.000000               13000   \n",
       "96456               True          3473.583333               15000   \n",
       "70672               True          8083.333333               12500   \n",
       "7861                True          6250.000000                7000   \n",
       "58697               True          3750.000000               10000   \n",
       "84031               True          2000.000000                7000   \n",
       "\n",
       "        MonthlyLoanPayment  Investors  \n",
       "107538              156.42         73  \n",
       "22063               168.15          1  \n",
       "20434               475.53        239  \n",
       "24390               369.31         37  \n",
       "32750               481.74        132  \n",
       "96456              1370.85        135  \n",
       "70672               379.60          1  \n",
       "7861                238.56        235  \n",
       "58697               359.52         64  \n",
       "84031               261.90        140  "
      ]
     },
     "execution_count": 13,
     "metadata": {},
     "output_type": "execute_result"
    }
   ],
   "source": [
    "# ten random rows from the new dataframe\n",
    "df_1.sample(10)"
   ]
  },
  {
   "cell_type": "code",
   "execution_count": 14,
   "metadata": {},
   "outputs": [
    {
     "data": {
      "text/plain": [
       "(113937, 15)"
      ]
     },
     "execution_count": 14,
     "metadata": {},
     "output_type": "execute_result"
    }
   ],
   "source": [
    "#dimensions of the dataframe for exploration\n",
    "df_1.shape"
   ]
  },
  {
   "cell_type": "code",
   "execution_count": 15,
   "metadata": {},
   "outputs": [
    {
     "name": "stdout",
     "output_type": "stream",
     "text": [
      "<class 'pandas.core.frame.DataFrame'>\n",
      "RangeIndex: 113937 entries, 0 to 113936\n",
      "Data columns (total 15 columns):\n",
      " #   Column                     Non-Null Count   Dtype  \n",
      "---  ------                     --------------   -----  \n",
      " 0   LoanKey                    113937 non-null  object \n",
      " 1   Term                       113937 non-null  int64  \n",
      " 2   LoanStatus                 113937 non-null  object \n",
      " 3   BorrowerAPR                113912 non-null  float64\n",
      " 4   BorrowerRate               113937 non-null  float64\n",
      " 5   ListingCategory (numeric)  113937 non-null  int64  \n",
      " 6   EmploymentStatus           111682 non-null  object \n",
      " 7   IsBorrowerHomeowner        113937 non-null  bool   \n",
      " 8   DebtToIncomeRatio          105383 non-null  float64\n",
      " 9   IncomeRange                113937 non-null  object \n",
      " 10  IncomeVerifiable           113937 non-null  bool   \n",
      " 11  StatedMonthlyIncome        113937 non-null  float64\n",
      " 12  LoanOriginalAmount         113937 non-null  int64  \n",
      " 13  MonthlyLoanPayment         113937 non-null  float64\n",
      " 14  Investors                  113937 non-null  int64  \n",
      "dtypes: bool(2), float64(5), int64(4), object(4)\n",
      "memory usage: 11.5+ MB\n"
     ]
    }
   ],
   "source": [
    "# information on the dataframe for exploration\n",
    "df_1.info()"
   ]
  },
  {
   "cell_type": "code",
   "execution_count": 16,
   "metadata": {},
   "outputs": [
    {
     "data": {
      "text/html": [
       "<div>\n",
       "<style scoped>\n",
       "    .dataframe tbody tr th:only-of-type {\n",
       "        vertical-align: middle;\n",
       "    }\n",
       "\n",
       "    .dataframe tbody tr th {\n",
       "        vertical-align: top;\n",
       "    }\n",
       "\n",
       "    .dataframe thead th {\n",
       "        text-align: right;\n",
       "    }\n",
       "</style>\n",
       "<table border=\"1\" class=\"dataframe\">\n",
       "  <thead>\n",
       "    <tr style=\"text-align: right;\">\n",
       "      <th></th>\n",
       "      <th>Term</th>\n",
       "      <th>BorrowerAPR</th>\n",
       "      <th>BorrowerRate</th>\n",
       "      <th>ListingCategory (numeric)</th>\n",
       "      <th>DebtToIncomeRatio</th>\n",
       "      <th>StatedMonthlyIncome</th>\n",
       "      <th>LoanOriginalAmount</th>\n",
       "      <th>MonthlyLoanPayment</th>\n",
       "      <th>Investors</th>\n",
       "    </tr>\n",
       "  </thead>\n",
       "  <tbody>\n",
       "    <tr>\n",
       "      <th>count</th>\n",
       "      <td>113937.000000</td>\n",
       "      <td>113912.000000</td>\n",
       "      <td>113937.000000</td>\n",
       "      <td>113937.000000</td>\n",
       "      <td>105383.000000</td>\n",
       "      <td>1.139370e+05</td>\n",
       "      <td>113937.00000</td>\n",
       "      <td>113937.000000</td>\n",
       "      <td>113937.000000</td>\n",
       "    </tr>\n",
       "    <tr>\n",
       "      <th>mean</th>\n",
       "      <td>40.830248</td>\n",
       "      <td>0.218828</td>\n",
       "      <td>0.192764</td>\n",
       "      <td>2.774209</td>\n",
       "      <td>0.275947</td>\n",
       "      <td>5.608026e+03</td>\n",
       "      <td>8337.01385</td>\n",
       "      <td>272.475783</td>\n",
       "      <td>80.475228</td>\n",
       "    </tr>\n",
       "    <tr>\n",
       "      <th>std</th>\n",
       "      <td>10.436212</td>\n",
       "      <td>0.080364</td>\n",
       "      <td>0.074818</td>\n",
       "      <td>3.996797</td>\n",
       "      <td>0.551759</td>\n",
       "      <td>7.478497e+03</td>\n",
       "      <td>6245.80058</td>\n",
       "      <td>192.697812</td>\n",
       "      <td>103.239020</td>\n",
       "    </tr>\n",
       "    <tr>\n",
       "      <th>min</th>\n",
       "      <td>12.000000</td>\n",
       "      <td>0.006530</td>\n",
       "      <td>0.000000</td>\n",
       "      <td>0.000000</td>\n",
       "      <td>0.000000</td>\n",
       "      <td>0.000000e+00</td>\n",
       "      <td>1000.00000</td>\n",
       "      <td>0.000000</td>\n",
       "      <td>1.000000</td>\n",
       "    </tr>\n",
       "    <tr>\n",
       "      <th>25%</th>\n",
       "      <td>36.000000</td>\n",
       "      <td>0.156290</td>\n",
       "      <td>0.134000</td>\n",
       "      <td>1.000000</td>\n",
       "      <td>0.140000</td>\n",
       "      <td>3.200333e+03</td>\n",
       "      <td>4000.00000</td>\n",
       "      <td>131.620000</td>\n",
       "      <td>2.000000</td>\n",
       "    </tr>\n",
       "    <tr>\n",
       "      <th>50%</th>\n",
       "      <td>36.000000</td>\n",
       "      <td>0.209760</td>\n",
       "      <td>0.184000</td>\n",
       "      <td>1.000000</td>\n",
       "      <td>0.220000</td>\n",
       "      <td>4.666667e+03</td>\n",
       "      <td>6500.00000</td>\n",
       "      <td>217.740000</td>\n",
       "      <td>44.000000</td>\n",
       "    </tr>\n",
       "    <tr>\n",
       "      <th>75%</th>\n",
       "      <td>36.000000</td>\n",
       "      <td>0.283810</td>\n",
       "      <td>0.250000</td>\n",
       "      <td>3.000000</td>\n",
       "      <td>0.320000</td>\n",
       "      <td>6.825000e+03</td>\n",
       "      <td>12000.00000</td>\n",
       "      <td>371.580000</td>\n",
       "      <td>115.000000</td>\n",
       "    </tr>\n",
       "    <tr>\n",
       "      <th>max</th>\n",
       "      <td>60.000000</td>\n",
       "      <td>0.512290</td>\n",
       "      <td>0.497500</td>\n",
       "      <td>20.000000</td>\n",
       "      <td>10.010000</td>\n",
       "      <td>1.750003e+06</td>\n",
       "      <td>35000.00000</td>\n",
       "      <td>2251.510000</td>\n",
       "      <td>1189.000000</td>\n",
       "    </tr>\n",
       "  </tbody>\n",
       "</table>\n",
       "</div>"
      ],
      "text/plain": [
       "                Term    BorrowerAPR   BorrowerRate  ListingCategory (numeric)  \\\n",
       "count  113937.000000  113912.000000  113937.000000              113937.000000   \n",
       "mean       40.830248       0.218828       0.192764                   2.774209   \n",
       "std        10.436212       0.080364       0.074818                   3.996797   \n",
       "min        12.000000       0.006530       0.000000                   0.000000   \n",
       "25%        36.000000       0.156290       0.134000                   1.000000   \n",
       "50%        36.000000       0.209760       0.184000                   1.000000   \n",
       "75%        36.000000       0.283810       0.250000                   3.000000   \n",
       "max        60.000000       0.512290       0.497500                  20.000000   \n",
       "\n",
       "       DebtToIncomeRatio  StatedMonthlyIncome  LoanOriginalAmount  \\\n",
       "count      105383.000000         1.139370e+05        113937.00000   \n",
       "mean            0.275947         5.608026e+03          8337.01385   \n",
       "std             0.551759         7.478497e+03          6245.80058   \n",
       "min             0.000000         0.000000e+00          1000.00000   \n",
       "25%             0.140000         3.200333e+03          4000.00000   \n",
       "50%             0.220000         4.666667e+03          6500.00000   \n",
       "75%             0.320000         6.825000e+03         12000.00000   \n",
       "max            10.010000         1.750003e+06         35000.00000   \n",
       "\n",
       "       MonthlyLoanPayment      Investors  \n",
       "count       113937.000000  113937.000000  \n",
       "mean           272.475783      80.475228  \n",
       "std            192.697812     103.239020  \n",
       "min              0.000000       1.000000  \n",
       "25%            131.620000       2.000000  \n",
       "50%            217.740000      44.000000  \n",
       "75%            371.580000     115.000000  \n",
       "max           2251.510000    1189.000000  "
      ]
     },
     "execution_count": 16,
     "metadata": {},
     "output_type": "execute_result"
    }
   ],
   "source": [
    "# summary statistics of the dataframe for exploration\n",
    "df_1.describe()"
   ]
  },
  {
   "cell_type": "code",
   "execution_count": 17,
   "metadata": {},
   "outputs": [
    {
     "data": {
      "text/html": [
       "<div>\n",
       "<style scoped>\n",
       "    .dataframe tbody tr th:only-of-type {\n",
       "        vertical-align: middle;\n",
       "    }\n",
       "\n",
       "    .dataframe tbody tr th {\n",
       "        vertical-align: top;\n",
       "    }\n",
       "\n",
       "    .dataframe thead th {\n",
       "        text-align: right;\n",
       "    }\n",
       "</style>\n",
       "<table border=\"1\" class=\"dataframe\">\n",
       "  <thead>\n",
       "    <tr style=\"text-align: right;\">\n",
       "      <th></th>\n",
       "      <th>LoanKey</th>\n",
       "      <th>Term</th>\n",
       "      <th>LoanStatus</th>\n",
       "      <th>BorrowerAPR</th>\n",
       "      <th>BorrowerRate</th>\n",
       "      <th>ListingCategory (numeric)</th>\n",
       "      <th>EmploymentStatus</th>\n",
       "      <th>IsBorrowerHomeowner</th>\n",
       "      <th>DebtToIncomeRatio</th>\n",
       "      <th>IncomeRange</th>\n",
       "      <th>IncomeVerifiable</th>\n",
       "      <th>StatedMonthlyIncome</th>\n",
       "      <th>LoanOriginalAmount</th>\n",
       "      <th>MonthlyLoanPayment</th>\n",
       "      <th>Investors</th>\n",
       "    </tr>\n",
       "  </thead>\n",
       "  <tbody>\n",
       "    <tr>\n",
       "      <th>9</th>\n",
       "      <td>02163700809231365A56A1C</td>\n",
       "      <td>36</td>\n",
       "      <td>Current</td>\n",
       "      <td>0.07620</td>\n",
       "      <td>0.0629</td>\n",
       "      <td>7</td>\n",
       "      <td>Employed</td>\n",
       "      <td>True</td>\n",
       "      <td>0.25</td>\n",
       "      <td>$25,000-49,999</td>\n",
       "      <td>True</td>\n",
       "      <td>3333.333333</td>\n",
       "      <td>10000</td>\n",
       "      <td>305.54</td>\n",
       "      <td>1</td>\n",
       "    </tr>\n",
       "    <tr>\n",
       "      <th>999</th>\n",
       "      <td>CB643706582969191E8C26B</td>\n",
       "      <td>60</td>\n",
       "      <td>Current</td>\n",
       "      <td>0.17710</td>\n",
       "      <td>0.1535</td>\n",
       "      <td>1</td>\n",
       "      <td>Employed</td>\n",
       "      <td>True</td>\n",
       "      <td>0.35</td>\n",
       "      <td>$25,000-49,999</td>\n",
       "      <td>True</td>\n",
       "      <td>3750.000000</td>\n",
       "      <td>10000</td>\n",
       "      <td>239.74</td>\n",
       "      <td>1</td>\n",
       "    </tr>\n",
       "    <tr>\n",
       "      <th>2539</th>\n",
       "      <td>DC303708663304668E74587</td>\n",
       "      <td>60</td>\n",
       "      <td>Current</td>\n",
       "      <td>0.14528</td>\n",
       "      <td>0.1224</td>\n",
       "      <td>1</td>\n",
       "      <td>Employed</td>\n",
       "      <td>True</td>\n",
       "      <td>0.18</td>\n",
       "      <td>$100,000+</td>\n",
       "      <td>True</td>\n",
       "      <td>10833.333333</td>\n",
       "      <td>35000</td>\n",
       "      <td>782.81</td>\n",
       "      <td>1</td>\n",
       "    </tr>\n",
       "    <tr>\n",
       "      <th>4942</th>\n",
       "      <td>8D84369399064302947D8B5</td>\n",
       "      <td>36</td>\n",
       "      <td>Current</td>\n",
       "      <td>0.35356</td>\n",
       "      <td>0.3134</td>\n",
       "      <td>7</td>\n",
       "      <td>Employed</td>\n",
       "      <td>True</td>\n",
       "      <td>0.07</td>\n",
       "      <td>$50,000-74,999</td>\n",
       "      <td>True</td>\n",
       "      <td>4583.333333</td>\n",
       "      <td>4000</td>\n",
       "      <td>172.76</td>\n",
       "      <td>40</td>\n",
       "    </tr>\n",
       "    <tr>\n",
       "      <th>5812</th>\n",
       "      <td>129C369881799628360C904</td>\n",
       "      <td>36</td>\n",
       "      <td>Current</td>\n",
       "      <td>0.24205</td>\n",
       "      <td>0.2045</td>\n",
       "      <td>1</td>\n",
       "      <td>Other</td>\n",
       "      <td>True</td>\n",
       "      <td>0.62</td>\n",
       "      <td>$50,000-74,999</td>\n",
       "      <td>True</td>\n",
       "      <td>4166.666667</td>\n",
       "      <td>15000</td>\n",
       "      <td>560.90</td>\n",
       "      <td>1</td>\n",
       "    </tr>\n",
       "    <tr>\n",
       "      <th>...</th>\n",
       "      <td>...</td>\n",
       "      <td>...</td>\n",
       "      <td>...</td>\n",
       "      <td>...</td>\n",
       "      <td>...</td>\n",
       "      <td>...</td>\n",
       "      <td>...</td>\n",
       "      <td>...</td>\n",
       "      <td>...</td>\n",
       "      <td>...</td>\n",
       "      <td>...</td>\n",
       "      <td>...</td>\n",
       "      <td>...</td>\n",
       "      <td>...</td>\n",
       "      <td>...</td>\n",
       "    </tr>\n",
       "    <tr>\n",
       "      <th>113548</th>\n",
       "      <td>6C203707183544065E3E202</td>\n",
       "      <td>60</td>\n",
       "      <td>Current</td>\n",
       "      <td>0.22063</td>\n",
       "      <td>0.1960</td>\n",
       "      <td>18</td>\n",
       "      <td>Employed</td>\n",
       "      <td>True</td>\n",
       "      <td>0.15</td>\n",
       "      <td>$75,000-99,999</td>\n",
       "      <td>True</td>\n",
       "      <td>7666.666667</td>\n",
       "      <td>14000</td>\n",
       "      <td>367.81</td>\n",
       "      <td>1</td>\n",
       "    </tr>\n",
       "    <tr>\n",
       "      <th>113636</th>\n",
       "      <td>F3E73698701527272D54247</td>\n",
       "      <td>36</td>\n",
       "      <td>Current</td>\n",
       "      <td>0.21290</td>\n",
       "      <td>0.1760</td>\n",
       "      <td>1</td>\n",
       "      <td>Other</td>\n",
       "      <td>True</td>\n",
       "      <td>0.20</td>\n",
       "      <td>$25,000-49,999</td>\n",
       "      <td>True</td>\n",
       "      <td>2500.000000</td>\n",
       "      <td>4000</td>\n",
       "      <td>143.81</td>\n",
       "      <td>1</td>\n",
       "    </tr>\n",
       "    <tr>\n",
       "      <th>113733</th>\n",
       "      <td>F3AB369770667777597274C</td>\n",
       "      <td>60</td>\n",
       "      <td>Current</td>\n",
       "      <td>0.20593</td>\n",
       "      <td>0.1819</td>\n",
       "      <td>1</td>\n",
       "      <td>Employed</td>\n",
       "      <td>False</td>\n",
       "      <td>0.42</td>\n",
       "      <td>$50,000-74,999</td>\n",
       "      <td>True</td>\n",
       "      <td>4583.333333</td>\n",
       "      <td>10000</td>\n",
       "      <td>254.97</td>\n",
       "      <td>66</td>\n",
       "    </tr>\n",
       "    <tr>\n",
       "      <th>113773</th>\n",
       "      <td>D895370150591392337ED6D</td>\n",
       "      <td>36</td>\n",
       "      <td>Current</td>\n",
       "      <td>0.16324</td>\n",
       "      <td>0.1274</td>\n",
       "      <td>1</td>\n",
       "      <td>Employed</td>\n",
       "      <td>True</td>\n",
       "      <td>0.36</td>\n",
       "      <td>$25,000-49,999</td>\n",
       "      <td>True</td>\n",
       "      <td>2720.833333</td>\n",
       "      <td>10000</td>\n",
       "      <td>335.69</td>\n",
       "      <td>1</td>\n",
       "    </tr>\n",
       "    <tr>\n",
       "      <th>113863</th>\n",
       "      <td>7D6A3699075363390CD7242</td>\n",
       "      <td>36</td>\n",
       "      <td>Current</td>\n",
       "      <td>0.12691</td>\n",
       "      <td>0.0990</td>\n",
       "      <td>1</td>\n",
       "      <td>Employed</td>\n",
       "      <td>False</td>\n",
       "      <td>0.18</td>\n",
       "      <td>$25,000-49,999</td>\n",
       "      <td>True</td>\n",
       "      <td>3333.333333</td>\n",
       "      <td>6500</td>\n",
       "      <td>209.43</td>\n",
       "      <td>1</td>\n",
       "    </tr>\n",
       "  </tbody>\n",
       "</table>\n",
       "<p>871 rows × 15 columns</p>\n",
       "</div>"
      ],
      "text/plain": [
       "                        LoanKey  Term LoanStatus  BorrowerAPR  BorrowerRate  \\\n",
       "9       02163700809231365A56A1C    36    Current      0.07620        0.0629   \n",
       "999     CB643706582969191E8C26B    60    Current      0.17710        0.1535   \n",
       "2539    DC303708663304668E74587    60    Current      0.14528        0.1224   \n",
       "4942    8D84369399064302947D8B5    36    Current      0.35356        0.3134   \n",
       "5812    129C369881799628360C904    36    Current      0.24205        0.2045   \n",
       "...                         ...   ...        ...          ...           ...   \n",
       "113548  6C203707183544065E3E202    60    Current      0.22063        0.1960   \n",
       "113636  F3E73698701527272D54247    36    Current      0.21290        0.1760   \n",
       "113733  F3AB369770667777597274C    60    Current      0.20593        0.1819   \n",
       "113773  D895370150591392337ED6D    36    Current      0.16324        0.1274   \n",
       "113863  7D6A3699075363390CD7242    36    Current      0.12691        0.0990   \n",
       "\n",
       "        ListingCategory (numeric) EmploymentStatus  IsBorrowerHomeowner  \\\n",
       "9                               7         Employed                 True   \n",
       "999                             1         Employed                 True   \n",
       "2539                            1         Employed                 True   \n",
       "4942                            7         Employed                 True   \n",
       "5812                            1            Other                 True   \n",
       "...                           ...              ...                  ...   \n",
       "113548                         18         Employed                 True   \n",
       "113636                          1            Other                 True   \n",
       "113733                          1         Employed                False   \n",
       "113773                          1         Employed                 True   \n",
       "113863                          1         Employed                False   \n",
       "\n",
       "        DebtToIncomeRatio     IncomeRange  IncomeVerifiable  \\\n",
       "9                    0.25  $25,000-49,999              True   \n",
       "999                  0.35  $25,000-49,999              True   \n",
       "2539                 0.18       $100,000+              True   \n",
       "4942                 0.07  $50,000-74,999              True   \n",
       "5812                 0.62  $50,000-74,999              True   \n",
       "...                   ...             ...               ...   \n",
       "113548               0.15  $75,000-99,999              True   \n",
       "113636               0.20  $25,000-49,999              True   \n",
       "113733               0.42  $50,000-74,999              True   \n",
       "113773               0.36  $25,000-49,999              True   \n",
       "113863               0.18  $25,000-49,999              True   \n",
       "\n",
       "        StatedMonthlyIncome  LoanOriginalAmount  MonthlyLoanPayment  Investors  \n",
       "9               3333.333333               10000              305.54          1  \n",
       "999             3750.000000               10000              239.74          1  \n",
       "2539           10833.333333               35000              782.81          1  \n",
       "4942            4583.333333                4000              172.76         40  \n",
       "5812            4166.666667               15000              560.90          1  \n",
       "...                     ...                 ...                 ...        ...  \n",
       "113548          7666.666667               14000              367.81          1  \n",
       "113636          2500.000000                4000              143.81          1  \n",
       "113733          4583.333333               10000              254.97         66  \n",
       "113773          2720.833333               10000              335.69          1  \n",
       "113863          3333.333333                6500              209.43          1  \n",
       "\n",
       "[871 rows x 15 columns]"
      ]
     },
     "execution_count": 17,
     "metadata": {},
     "output_type": "execute_result"
    }
   ],
   "source": [
    "# number of duplicated rows in the dataframe\n",
    "df_1[df_1.duplicated()]"
   ]
  },
  {
   "cell_type": "code",
   "execution_count": 18,
   "metadata": {},
   "outputs": [
    {
     "data": {
      "text/plain": [
       "LoanKey                         0\n",
       "Term                            0\n",
       "LoanStatus                      0\n",
       "BorrowerAPR                    25\n",
       "BorrowerRate                    0\n",
       "ListingCategory (numeric)       0\n",
       "EmploymentStatus             2255\n",
       "IsBorrowerHomeowner             0\n",
       "DebtToIncomeRatio            8554\n",
       "IncomeRange                     0\n",
       "IncomeVerifiable                0\n",
       "StatedMonthlyIncome             0\n",
       "LoanOriginalAmount              0\n",
       "MonthlyLoanPayment              0\n",
       "Investors                       0\n",
       "dtype: int64"
      ]
     },
     "execution_count": 18,
     "metadata": {},
     "output_type": "execute_result"
    }
   ],
   "source": [
    "# number of null values in each column\n",
    "df_1.isnull().sum()"
   ]
  },
  {
   "cell_type": "markdown",
   "metadata": {},
   "source": [
    "### CLEANING DATA"
   ]
  },
  {
   "cell_type": "markdown",
   "metadata": {},
   "source": [
    "#### Issue 1: Duplicate rows"
   ]
  },
  {
   "cell_type": "markdown",
   "metadata": {},
   "source": [
    "#### Define\n",
    "The duplicate rows will be dropped using pandas' drop_duplicates method."
   ]
  },
  {
   "cell_type": "markdown",
   "metadata": {},
   "source": [
    "#### Code"
   ]
  },
  {
   "cell_type": "code",
   "execution_count": 19,
   "metadata": {},
   "outputs": [],
   "source": [
    "# drop all duplicate rows\n",
    "df_1 = df_1.drop_duplicates()"
   ]
  },
  {
   "cell_type": "markdown",
   "metadata": {},
   "source": [
    "#### Test"
   ]
  },
  {
   "cell_type": "code",
   "execution_count": 20,
   "metadata": {
    "scrolled": true
   },
   "outputs": [
    {
     "data": {
      "text/plain": [
       "(113066, 15)"
      ]
     },
     "execution_count": 20,
     "metadata": {},
     "output_type": "execute_result"
    }
   ],
   "source": [
    "# dimensions of the dataframe after dropping duplicate rows\n",
    "df_1.shape"
   ]
  },
  {
   "cell_type": "markdown",
   "metadata": {},
   "source": [
    "#### Issue 2: Complex column names."
   ]
  },
  {
   "cell_type": "markdown",
   "metadata": {},
   "source": [
    "#### Define\n",
    "The column names will be renamed with more suitable names using pandas' rename function."
   ]
  },
  {
   "cell_type": "markdown",
   "metadata": {},
   "source": [
    "#### Code"
   ]
  },
  {
   "cell_type": "code",
   "execution_count": 21,
   "metadata": {},
   "outputs": [],
   "source": [
    "# rename the column names\n",
    "df_1.rename(columns = {'LoanKey':'loan_key', 'Term':'term', 'LoanStatus':'loan_status', 'BorrowerAPR':'borrower_APR',\n",
    "                       'BorrowerRate': 'borrower_rate', 'ListingCategory (numeric)':'listing_category', \n",
    "                       'EmploymentStatus':'employment_status', 'IsBorrowerHomeowner':'is_borrower_a_home_owner?',\n",
    "                       'DebtToIncomeRatio': 'debt_to_income_ratio','IncomeRange':'income_range', \n",
    "                       'IncomeVerifiable':'income_verifiable','StatedMonthlyIncome':'stated_monthly_income', \n",
    "                       'LoanOriginalAmount':'loan_original_amount','MonthlyLoanPayment': 'monthly_loan_payment',\n",
    "                       'Investors':'investors'}, inplace = True)"
   ]
  },
  {
   "cell_type": "markdown",
   "metadata": {},
   "source": [
    "#### Test"
   ]
  },
  {
   "cell_type": "code",
   "execution_count": 22,
   "metadata": {},
   "outputs": [
    {
     "data": {
      "text/html": [
       "<div>\n",
       "<style scoped>\n",
       "    .dataframe tbody tr th:only-of-type {\n",
       "        vertical-align: middle;\n",
       "    }\n",
       "\n",
       "    .dataframe tbody tr th {\n",
       "        vertical-align: top;\n",
       "    }\n",
       "\n",
       "    .dataframe thead th {\n",
       "        text-align: right;\n",
       "    }\n",
       "</style>\n",
       "<table border=\"1\" class=\"dataframe\">\n",
       "  <thead>\n",
       "    <tr style=\"text-align: right;\">\n",
       "      <th></th>\n",
       "      <th>loan_key</th>\n",
       "      <th>term</th>\n",
       "      <th>loan_status</th>\n",
       "      <th>borrower_APR</th>\n",
       "      <th>borrower_rate</th>\n",
       "      <th>listing_category</th>\n",
       "      <th>employment_status</th>\n",
       "      <th>is_borrower_a_home_owner?</th>\n",
       "      <th>debt_to_income_ratio</th>\n",
       "      <th>income_range</th>\n",
       "      <th>income_verifiable</th>\n",
       "      <th>stated_monthly_income</th>\n",
       "      <th>loan_original_amount</th>\n",
       "      <th>monthly_loan_payment</th>\n",
       "      <th>investors</th>\n",
       "    </tr>\n",
       "  </thead>\n",
       "  <tbody>\n",
       "    <tr>\n",
       "      <th>73628</th>\n",
       "      <td>DCC93668677963502FEDC40</td>\n",
       "      <td>36</td>\n",
       "      <td>Completed</td>\n",
       "      <td>0.21434</td>\n",
       "      <td>0.1774</td>\n",
       "      <td>7</td>\n",
       "      <td>Employed</td>\n",
       "      <td>True</td>\n",
       "      <td>0.19</td>\n",
       "      <td>$75,000-99,999</td>\n",
       "      <td>True</td>\n",
       "      <td>8000.000000</td>\n",
       "      <td>2300</td>\n",
       "      <td>82.85</td>\n",
       "      <td>17</td>\n",
       "    </tr>\n",
       "    <tr>\n",
       "      <th>84849</th>\n",
       "      <td>49D23689423984962AED02B</td>\n",
       "      <td>60</td>\n",
       "      <td>Current</td>\n",
       "      <td>0.27637</td>\n",
       "      <td>0.2506</td>\n",
       "      <td>1</td>\n",
       "      <td>Employed</td>\n",
       "      <td>True</td>\n",
       "      <td>0.17</td>\n",
       "      <td>$100,000+</td>\n",
       "      <td>True</td>\n",
       "      <td>8566.333333</td>\n",
       "      <td>15000</td>\n",
       "      <td>440.80</td>\n",
       "      <td>1</td>\n",
       "    </tr>\n",
       "    <tr>\n",
       "      <th>26598</th>\n",
       "      <td>2E2936537374131665DEBEC</td>\n",
       "      <td>36</td>\n",
       "      <td>Current</td>\n",
       "      <td>0.25259</td>\n",
       "      <td>0.2148</td>\n",
       "      <td>19</td>\n",
       "      <td>Employed</td>\n",
       "      <td>True</td>\n",
       "      <td>0.23</td>\n",
       "      <td>$25,000-49,999</td>\n",
       "      <td>True</td>\n",
       "      <td>2416.666667</td>\n",
       "      <td>5000</td>\n",
       "      <td>189.61</td>\n",
       "      <td>57</td>\n",
       "    </tr>\n",
       "    <tr>\n",
       "      <th>18007</th>\n",
       "      <td>37D137073555196681FF5BF</td>\n",
       "      <td>60</td>\n",
       "      <td>Current</td>\n",
       "      <td>0.15449</td>\n",
       "      <td>0.1314</td>\n",
       "      <td>1</td>\n",
       "      <td>Employed</td>\n",
       "      <td>True</td>\n",
       "      <td>0.18</td>\n",
       "      <td>$25,000-49,999</td>\n",
       "      <td>True</td>\n",
       "      <td>4000.000000</td>\n",
       "      <td>15000</td>\n",
       "      <td>342.37</td>\n",
       "      <td>1</td>\n",
       "    </tr>\n",
       "    <tr>\n",
       "      <th>113836</th>\n",
       "      <td>584E3593776533156F2E38D</td>\n",
       "      <td>36</td>\n",
       "      <td>Completed</td>\n",
       "      <td>0.23794</td>\n",
       "      <td>0.2001</td>\n",
       "      <td>3</td>\n",
       "      <td>Self-employed</td>\n",
       "      <td>True</td>\n",
       "      <td>NaN</td>\n",
       "      <td>$100,000+</td>\n",
       "      <td>False</td>\n",
       "      <td>10333.333333</td>\n",
       "      <td>1000</td>\n",
       "      <td>37.17</td>\n",
       "      <td>30</td>\n",
       "    </tr>\n",
       "  </tbody>\n",
       "</table>\n",
       "</div>"
      ],
      "text/plain": [
       "                       loan_key  term loan_status  borrower_APR  \\\n",
       "73628   DCC93668677963502FEDC40    36   Completed       0.21434   \n",
       "84849   49D23689423984962AED02B    60     Current       0.27637   \n",
       "26598   2E2936537374131665DEBEC    36     Current       0.25259   \n",
       "18007   37D137073555196681FF5BF    60     Current       0.15449   \n",
       "113836  584E3593776533156F2E38D    36   Completed       0.23794   \n",
       "\n",
       "        borrower_rate  listing_category employment_status  \\\n",
       "73628          0.1774                 7          Employed   \n",
       "84849          0.2506                 1          Employed   \n",
       "26598          0.2148                19          Employed   \n",
       "18007          0.1314                 1          Employed   \n",
       "113836         0.2001                 3     Self-employed   \n",
       "\n",
       "        is_borrower_a_home_owner?  debt_to_income_ratio    income_range  \\\n",
       "73628                        True                  0.19  $75,000-99,999   \n",
       "84849                        True                  0.17       $100,000+   \n",
       "26598                        True                  0.23  $25,000-49,999   \n",
       "18007                        True                  0.18  $25,000-49,999   \n",
       "113836                       True                   NaN       $100,000+   \n",
       "\n",
       "        income_verifiable  stated_monthly_income  loan_original_amount  \\\n",
       "73628                True            8000.000000                  2300   \n",
       "84849                True            8566.333333                 15000   \n",
       "26598                True            2416.666667                  5000   \n",
       "18007                True            4000.000000                 15000   \n",
       "113836              False           10333.333333                  1000   \n",
       "\n",
       "        monthly_loan_payment  investors  \n",
       "73628                  82.85         17  \n",
       "84849                 440.80          1  \n",
       "26598                 189.61         57  \n",
       "18007                 342.37          1  \n",
       "113836                 37.17         30  "
      ]
     },
     "execution_count": 22,
     "metadata": {},
     "output_type": "execute_result"
    }
   ],
   "source": [
    "#five random rows after renaming the column names\n",
    "df_1.sample(5)"
   ]
  },
  {
   "cell_type": "markdown",
   "metadata": {},
   "source": [
    "#### Issue 3: Non-descriptive listing categories"
   ]
  },
  {
   "cell_type": "markdown",
   "metadata": {},
   "source": [
    "#### Define\n",
    "The non-descriptive listing categories will be replaced with a descriptive listing categories using .replace() method."
   ]
  },
  {
   "cell_type": "markdown",
   "metadata": {},
   "source": [
    "#### Code"
   ]
  },
  {
   "cell_type": "code",
   "execution_count": 23,
   "metadata": {},
   "outputs": [],
   "source": [
    "# replace the numbers with the actual listing category\n",
    "df_1['listing_category'].replace({0:'Not Available', 1:'Debt Consolidation', 2:'Home Improvement', \n",
    "                                         3:'Business', 4:'Personal Loan', 5:'Student Use', 6:'Auto', 7:'Other', \n",
    "                                         8:'Baby&Adoption', 9:'Boat', 10:'Cosmetic Procedure', 11:'Engagement Ring',\n",
    "                                         12:'Green Loans', 13:'Household Expenses',14:'Large Purchases', 15:'Medical/Dental', \n",
    "                                         16:'Motorcycle', 17:'RV', 18:'Taxes', 19:'Vacation', 20:'Wedding Loans'}, inplace = True)"
   ]
  },
  {
   "cell_type": "markdown",
   "metadata": {},
   "source": [
    "#### Test"
   ]
  },
  {
   "cell_type": "code",
   "execution_count": 24,
   "metadata": {},
   "outputs": [
    {
     "data": {
      "text/html": [
       "<div>\n",
       "<style scoped>\n",
       "    .dataframe tbody tr th:only-of-type {\n",
       "        vertical-align: middle;\n",
       "    }\n",
       "\n",
       "    .dataframe tbody tr th {\n",
       "        vertical-align: top;\n",
       "    }\n",
       "\n",
       "    .dataframe thead th {\n",
       "        text-align: right;\n",
       "    }\n",
       "</style>\n",
       "<table border=\"1\" class=\"dataframe\">\n",
       "  <thead>\n",
       "    <tr style=\"text-align: right;\">\n",
       "      <th></th>\n",
       "      <th>loan_key</th>\n",
       "      <th>term</th>\n",
       "      <th>loan_status</th>\n",
       "      <th>borrower_APR</th>\n",
       "      <th>borrower_rate</th>\n",
       "      <th>listing_category</th>\n",
       "      <th>employment_status</th>\n",
       "      <th>is_borrower_a_home_owner?</th>\n",
       "      <th>debt_to_income_ratio</th>\n",
       "      <th>income_range</th>\n",
       "      <th>income_verifiable</th>\n",
       "      <th>stated_monthly_income</th>\n",
       "      <th>loan_original_amount</th>\n",
       "      <th>monthly_loan_payment</th>\n",
       "      <th>investors</th>\n",
       "    </tr>\n",
       "  </thead>\n",
       "  <tbody>\n",
       "    <tr>\n",
       "      <th>97291</th>\n",
       "      <td>AD2F3376680313003630EF4</td>\n",
       "      <td>36</td>\n",
       "      <td>Completed</td>\n",
       "      <td>0.13705</td>\n",
       "      <td>0.1300</td>\n",
       "      <td>Not Available</td>\n",
       "      <td>Not available</td>\n",
       "      <td>True</td>\n",
       "      <td>0.15</td>\n",
       "      <td>Not displayed</td>\n",
       "      <td>True</td>\n",
       "      <td>5958.333333</td>\n",
       "      <td>10000</td>\n",
       "      <td>320.02</td>\n",
       "      <td>291</td>\n",
       "    </tr>\n",
       "    <tr>\n",
       "      <th>55235</th>\n",
       "      <td>0825341158337497756AC4D</td>\n",
       "      <td>36</td>\n",
       "      <td>Completed</td>\n",
       "      <td>0.16866</td>\n",
       "      <td>0.1470</td>\n",
       "      <td>Personal Loan</td>\n",
       "      <td>Full-time</td>\n",
       "      <td>False</td>\n",
       "      <td>0.13</td>\n",
       "      <td>$25,000-49,999</td>\n",
       "      <td>True</td>\n",
       "      <td>2166.666667</td>\n",
       "      <td>5000</td>\n",
       "      <td>172.59</td>\n",
       "      <td>199</td>\n",
       "    </tr>\n",
       "    <tr>\n",
       "      <th>90023</th>\n",
       "      <td>6FB235895084132207D9412</td>\n",
       "      <td>36</td>\n",
       "      <td>Completed</td>\n",
       "      <td>0.11296</td>\n",
       "      <td>0.0920</td>\n",
       "      <td>Debt Consolidation</td>\n",
       "      <td>Full-time</td>\n",
       "      <td>False</td>\n",
       "      <td>0.17</td>\n",
       "      <td>$50,000-74,999</td>\n",
       "      <td>True</td>\n",
       "      <td>4583.333333</td>\n",
       "      <td>6000</td>\n",
       "      <td>191.36</td>\n",
       "      <td>198</td>\n",
       "    </tr>\n",
       "    <tr>\n",
       "      <th>28677</th>\n",
       "      <td>66BA3387456858177FBB444</td>\n",
       "      <td>36</td>\n",
       "      <td>Chargedoff</td>\n",
       "      <td>0.29776</td>\n",
       "      <td>0.2900</td>\n",
       "      <td>Not Available</td>\n",
       "      <td>Self-employed</td>\n",
       "      <td>True</td>\n",
       "      <td>10.01</td>\n",
       "      <td>$1-24,999</td>\n",
       "      <td>False</td>\n",
       "      <td>0.083333</td>\n",
       "      <td>20000</td>\n",
       "      <td>838.11</td>\n",
       "      <td>172</td>\n",
       "    </tr>\n",
       "    <tr>\n",
       "      <th>104075</th>\n",
       "      <td>8CBB36979693525742B2D16</td>\n",
       "      <td>36</td>\n",
       "      <td>Current</td>\n",
       "      <td>0.20626</td>\n",
       "      <td>0.1695</td>\n",
       "      <td>Business</td>\n",
       "      <td>Employed</td>\n",
       "      <td>False</td>\n",
       "      <td>0.59</td>\n",
       "      <td>$50,000-74,999</td>\n",
       "      <td>True</td>\n",
       "      <td>5000.000000</td>\n",
       "      <td>15000</td>\n",
       "      <td>534.42</td>\n",
       "      <td>1</td>\n",
       "    </tr>\n",
       "  </tbody>\n",
       "</table>\n",
       "</div>"
      ],
      "text/plain": [
       "                       loan_key  term loan_status  borrower_APR  \\\n",
       "97291   AD2F3376680313003630EF4    36   Completed       0.13705   \n",
       "55235   0825341158337497756AC4D    36   Completed       0.16866   \n",
       "90023   6FB235895084132207D9412    36   Completed       0.11296   \n",
       "28677   66BA3387456858177FBB444    36  Chargedoff       0.29776   \n",
       "104075  8CBB36979693525742B2D16    36     Current       0.20626   \n",
       "\n",
       "        borrower_rate    listing_category employment_status  \\\n",
       "97291          0.1300       Not Available     Not available   \n",
       "55235          0.1470       Personal Loan         Full-time   \n",
       "90023          0.0920  Debt Consolidation         Full-time   \n",
       "28677          0.2900       Not Available     Self-employed   \n",
       "104075         0.1695            Business          Employed   \n",
       "\n",
       "        is_borrower_a_home_owner?  debt_to_income_ratio    income_range  \\\n",
       "97291                        True                  0.15   Not displayed   \n",
       "55235                       False                  0.13  $25,000-49,999   \n",
       "90023                       False                  0.17  $50,000-74,999   \n",
       "28677                        True                 10.01       $1-24,999   \n",
       "104075                      False                  0.59  $50,000-74,999   \n",
       "\n",
       "        income_verifiable  stated_monthly_income  loan_original_amount  \\\n",
       "97291                True            5958.333333                 10000   \n",
       "55235                True            2166.666667                  5000   \n",
       "90023                True            4583.333333                  6000   \n",
       "28677               False               0.083333                 20000   \n",
       "104075               True            5000.000000                 15000   \n",
       "\n",
       "        monthly_loan_payment  investors  \n",
       "97291                 320.02        291  \n",
       "55235                 172.59        199  \n",
       "90023                 191.36        198  \n",
       "28677                 838.11        172  \n",
       "104075                534.42          1  "
      ]
     },
     "execution_count": 24,
     "metadata": {},
     "output_type": "execute_result"
    }
   ],
   "source": [
    "# five random rows in the new dataframe\n",
    "df_1.sample(5)"
   ]
  },
  {
   "cell_type": "markdown",
   "metadata": {},
   "source": [
    "### What is the structure of your dataset?\n",
    "\n",
    "> This dataset consists of 113937 observations and 15 variables.\n",
    "\n",
    "### What is/are the main feature(s) of interest in your dataset?\n",
    "\n",
    "> The main features of interest in this dataset are Borrower APR, Borrower Rate, Term, Loan Status, Loan Original Amount, Stated Monthly Income and Monthly Loan Payment.\n",
    "\n",
    "### What features in the dataset do you think will help support your investigation into your feature(s) of interest?\n",
    "\n",
    "> The features in the dataset that will support an investigation into the features of interest are Listing Category, Employment Status, Is Borrower A Home Owner?, Debt to Income Ratio, Income Verifiable and Investors."
   ]
  },
  {
   "cell_type": "markdown",
   "metadata": {},
   "source": [
    "## Univariate Exploration"
   ]
  },
  {
   "cell_type": "code",
   "execution_count": 25,
   "metadata": {},
   "outputs": [],
   "source": [
    "# a function that adds x and y labels and the main title to a plot\n",
    "def label_1(x, y, t):\n",
    "    \"\"\"\n",
    "    Args:\n",
    "    x (str): x-axis title\n",
    "    y (str): y-axis title\n",
    "    t (str): main title\n",
    "        \n",
    "    Returns:\n",
    "    None\n",
    "    \"\"\"\n",
    "    plt.xlabel(x)\n",
    "    plt.ylabel(y)\n",
    "    plt.title(t)\n",
    "    plt.show()"
   ]
  },
  {
   "cell_type": "markdown",
   "metadata": {},
   "source": [
    "### What does the histogram plot of Borrower APR show?"
   ]
  },
  {
   "cell_type": "code",
   "execution_count": 26,
   "metadata": {},
   "outputs": [
    {
     "data": {
      "image/png": "[encoded data removed]",
      "text/plain": [
       "<Figure size 432x288 with 1 Axes>"
      ]
     },
     "metadata": {
      "needs_background": "light"
     },
     "output_type": "display_data"
    }
   ],
   "source": [
    "# histogram plot of the borrower APR\n",
    "bins = np.arange(0, df_1.borrower_APR.max()+0.05, 0.01)\n",
    "plt.hist(data = df_1, x = 'borrower_APR', bins = bins)\n",
    "label_1('Borrower APR', 'Frequency', 'Distribution of the Borrower APR');"
   ]
  },
  {
   "cell_type": "markdown",
   "metadata": {},
   "source": [
    "The histogram plot shows that the distribution of the Borrower APR  is bimodal. The first peak lies within 0.16 - 0.19 and the second and highest peak lies within 0.34 - 0.36."
   ]
  },
  {
   "cell_type": "markdown",
   "metadata": {},
   "source": [
    "### What does the histogram plot of the Borrower rate show?"
   ]
  },
  {
   "cell_type": "code",
   "execution_count": 27,
   "metadata": {},
   "outputs": [
    {
     "data": {
      "image/png": "[encoded data removed]",
      "text/plain": [
       "<Figure size 432x288 with 1 Axes>"
      ]
     },
     "metadata": {
      "needs_background": "light"
     },
     "output_type": "display_data"
    }
   ],
   "source": [
    "# histogram plot of the borrower rate\n",
    "bins = np.arange(0, df_1.borrower_rate.max()+ 0.01, 0.01)\n",
    "plt.hist(data = df_1, x = 'borrower_rate', bins = bins)\n",
    "label_1('Borrower Rate', 'Frequency', 'Distribution of the Borrower Rate');"
   ]
  },
  {
   "cell_type": "markdown",
   "metadata": {},
   "source": [
    "The histogram plot shows that the distribution of the Borrower Rate is also bimodal. The first and lowest peak lies within 0.15 - 0.17 and the second and highest peak lies within 0.32 - 0.34."
   ]
  },
  {
   "cell_type": "markdown",
   "metadata": {},
   "source": [
    "### What does the histogram plot of the Debt to income ratio show?"
   ]
  },
  {
   "cell_type": "code",
   "execution_count": 28,
   "metadata": {
    "scrolled": true
   },
   "outputs": [
    {
     "data": {
      "image/png": "[encoded data removed]",
      "text/plain": [
       "<Figure size 432x288 with 1 Axes>"
      ]
     },
     "metadata": {
      "needs_background": "light"
     },
     "output_type": "display_data"
    }
   ],
   "source": [
    "# histogram plot of the debt to income ratio\n",
    "plt.hist(data = df_1, x = 'debt_to_income_ratio') \n",
    "label_1('Debt To Income Ratio', 'Frequency', 'Distribution of the Debt to Income Ratio');"
   ]
  },
  {
   "cell_type": "markdown",
   "metadata": {},
   "source": [
    "There are values in this plot which falls outside the range of debt to income ratio. These are outliers because some values are capped at 10.01 i.e the debt to income ratio larger than 1000% will be returned as 1001%.\n"
   ]
  },
  {
   "cell_type": "code",
   "execution_count": 29,
   "metadata": {
    "scrolled": true
   },
   "outputs": [],
   "source": [
    "# a dataframe without outliers in the debt to income ratio column\n",
    "outliers = df_1['debt_to_income_ratio'] > 1\n",
    "df_1_dti = df_1.loc[-outliers]"
   ]
  },
  {
   "cell_type": "code",
   "execution_count": 30,
   "metadata": {},
   "outputs": [
    {
     "data": {
      "image/png": "[encoded data removed]",
      "text/plain": [
       "<Figure size 432x288 with 1 Axes>"
      ]
     },
     "metadata": {
      "needs_background": "light"
     },
     "output_type": "display_data"
    }
   ],
   "source": [
    "# histogram plot of the debt to income ratio without outliers\n",
    "bins = np.arange(0, df_1_dti.debt_to_income_ratio.max()+0.05, 0.05)\n",
    "plt.hist(data = df_1_dti, x = 'debt_to_income_ratio', bins = bins) \n",
    "label_1('Debt To Income Ratio', 'Frequency', 'Distribution of the Debt to Income Ratio without Outliers');"
   ]
  },
  {
   "cell_type": "markdown",
   "metadata": {},
   "source": [
    "The distribution of the debt to income ratio without outliers is unimodal and right skewed, with the maximum frequency within 0.5 - 0.8."
   ]
  },
  {
   "cell_type": "markdown",
   "metadata": {},
   "source": [
    "### What does the histogram plot of the Stated Monthly Income show?"
   ]
  },
  {
   "cell_type": "code",
   "execution_count": 31,
   "metadata": {
    "scrolled": true
   },
   "outputs": [
    {
     "data": {
      "image/png": "[encoded data removed]",
      "text/plain": [
       "<Figure size 864x360 with 2 Axes>"
      ]
     },
     "metadata": {
      "needs_background": "light"
     },
     "output_type": "display_data"
    }
   ],
   "source": [
    "# histogram plot of the stated monthly income\n",
    "plt.figure(figsize = [12, 5])\n",
    "bins = np.arange(0, df_1.stated_monthly_income.max()+100, 100)\n",
    "\n",
    "#histogram on the left\n",
    "plt.subplot(1,2,1)\n",
    "plt.hist(data = df_1, x = 'stated_monthly_income', bins = bins)\n",
    "plt.title('Distribution of the Stated Monthly Income without scaling')\n",
    "plt.xlabel('Stated Monthly Income')\n",
    "plt.ylabel('frequency')\n",
    "\n",
    "#histogram on the right\n",
    "plt.subplot(1,2,2)\n",
    "plt.hist(data = df_1, x = 'stated_monthly_income', bins = bins)\n",
    "plt.xscale('log')\n",
    "plt.title('Distribution of the Stated Monthly Income with scaling')\n",
    "plt.xlabel('Stated Monthly Income')\n",
    "plt.ylabel('frequency');"
   ]
  },
  {
   "cell_type": "code",
   "execution_count": 32,
   "metadata": {},
   "outputs": [
    {
     "data": {
      "image/png": "[encoded data removed]",
      "text/plain": [
       "<Figure size 864x504 with 1 Axes>"
      ]
     },
     "metadata": {
      "needs_background": "light"
     },
     "output_type": "display_data"
    }
   ],
   "source": [
    "# Scale the x-axis to log-type, change the axis limits, and increase the x-ticks\n",
    "plt.figure(figsize = [12, 7])\n",
    "bins = np.arange(0, df_1.stated_monthly_income.max()+100, 100)\n",
    "ticks = [ 5e1, 1e2, 5e2, 1e3, 5e3, 1e4, 5e4]\n",
    "labels = ['{}'.format(v) for v in ticks]\n",
    "plt.hist(data = df_1, x = 'stated_monthly_income', bins = bins)\n",
    "plt.xscale('log')\n",
    "plt.xticks(ticks, labels)\n",
    "label_1('Stated Monthly Income', 'frequency','Distribution of the Stated Monthly Income with scaling and Change in Axis Limits');"
   ]
  },
  {
   "cell_type": "markdown",
   "metadata": {},
   "source": [
    "The distribution of the Stated Monthly Income is bimodal and right skewed."
   ]
  },
  {
   "cell_type": "markdown",
   "metadata": {},
   "source": [
    "### What is the maximum loan original amount?"
   ]
  },
  {
   "cell_type": "code",
   "execution_count": 33,
   "metadata": {},
   "outputs": [
    {
     "data": {
      "image/png": "[encoded data removed]",
      "text/plain": [
       "<Figure size 432x288 with 1 Axes>"
      ]
     },
     "metadata": {
      "needs_background": "light"
     },
     "output_type": "display_data"
    }
   ],
   "source": [
    "# histogram plot of the loan original amount\n",
    "bins = np.arange(0, df_1.loan_original_amount.max()+1000, 1000)\n",
    "plt.hist(data = df_1, x = 'loan_original_amount', bins = bins)\n",
    "label_1('Loan Original Amount', 'Frequency', 'Distribution of the Loan Original Amount');"
   ]
  },
  {
   "cell_type": "markdown",
   "metadata": {},
   "source": [
    "The plot above shows that the maximum loan original amount is 3000 - 5000."
   ]
  },
  {
   "cell_type": "markdown",
   "metadata": {},
   "source": [
    "### What does the histogram plot of the Monthly Loan Payment show? "
   ]
  },
  {
   "cell_type": "code",
   "execution_count": 34,
   "metadata": {},
   "outputs": [
    {
     "data": {
      "image/png": "[encoded data removed]",
      "text/plain": [
       "<Figure size 432x288 with 1 Axes>"
      ]
     },
     "metadata": {
      "needs_background": "light"
     },
     "output_type": "display_data"
    }
   ],
   "source": [
    "# histogram plot of the monthly loan payment\n",
    "bins = np.arange(0, df_1.monthly_loan_payment.max()+50, 50)\n",
    "plt.hist(data = df_1, x = 'monthly_loan_payment', bins = bins)\n",
    "plt.xlim((0,1500))\n",
    "label_1('Monthly Loan Payment', 'Frequency', 'Distribution of the Monthly Loan Payment');"
   ]
  },
  {
   "cell_type": "markdown",
   "metadata": {},
   "source": [
    "The distribution of the monthly loan payment is unimodal and right skewed. "
   ]
  },
  {
   "cell_type": "markdown",
   "metadata": {},
   "source": [
    "### What is the maximum number of investors?"
   ]
  },
  {
   "cell_type": "code",
   "execution_count": 35,
   "metadata": {
    "scrolled": true
   },
   "outputs": [
    {
     "data": {
      "image/png": "[encoded data removed]",
      "text/plain": [
       "<Figure size 432x288 with 1 Axes>"
      ]
     },
     "metadata": {
      "needs_background": "light"
     },
     "output_type": "display_data"
    }
   ],
   "source": [
    "# histogram plot of the investors\n",
    "bins = np.arange(0, df_1.investors.max()+5, 5)\n",
    "plt.hist(data = df_1, x = 'investors', bins = 25)\n",
    "plt.xlim((0, 800))\n",
    "label_1('Investors', 'Frequency', 'Distribution of the Investors');"
   ]
  },
  {
   "cell_type": "markdown",
   "metadata": {},
   "source": [
    "From the plot above, it can be inferred that maximum number of investors fall within 0-100."
   ]
  },
  {
   "cell_type": "markdown",
   "metadata": {},
   "source": [
    "### What is the highest length of loans in months?"
   ]
  },
  {
   "cell_type": "code",
   "execution_count": 36,
   "metadata": {},
   "outputs": [
    {
     "data": {
      "image/png": "[encoded data removed]",
      "text/plain": [
       "<Figure size 432x288 with 1 Axes>"
      ]
     },
     "metadata": {
      "needs_background": "light"
     },
     "output_type": "display_data"
    }
   ],
   "source": [
    "# a bar plot which shows the count of each length of loans in months\n",
    "color = sb.color_palette()[2]\n",
    "sb.countplot(data = df_1, x = 'term', color = color)\n",
    "label_1('Term (Months)', 'Count', 'The Length of Loans in Months');"
   ]
  },
  {
   "cell_type": "markdown",
   "metadata": {},
   "source": [
    "This bar plot shows that most loans are given out for a length of 36 months(3 years), followed by 60 months (5 years) and less loans are given out for a length of 12 months (1 year)."
   ]
  },
  {
   "cell_type": "markdown",
   "metadata": {},
   "source": [
    "### Which loan status is the highest?"
   ]
  },
  {
   "cell_type": "code",
   "execution_count": 37,
   "metadata": {},
   "outputs": [],
   "source": [
    "loan_status_count = df_1['loan_status'].value_counts()\n",
    "\n",
    "n_loan_status = df_1['loan_status'].value_counts().sum()"
   ]
  },
  {
   "cell_type": "code",
   "execution_count": 38,
   "metadata": {
    "scrolled": true
   },
   "outputs": [
    {
     "data": {
      "image/png": "[encoded data removed]",
      "text/plain": [
       "<Figure size 432x288 with 1 Axes>"
      ]
     },
     "metadata": {
      "needs_background": "light"
     },
     "output_type": "display_data"
    }
   ],
   "source": [
    "# a bar plot which shows the count of each status of loan\n",
    "color = sb.color_palette()[2]\n",
    "sb.countplot(data = df_1, y = 'loan_status', color = color, order = loan_status_count.index)\n",
    "\n",
    "\n",
    "for i in range (loan_status_count.shape[0]):\n",
    "    count = loan_status_count[i]\n",
    "    pct_string = '{:0.1f}%'.format(100*count/n_loan_status)\n",
    "    plt.text(count+1, i, pct_string, va = 'center')\n",
    "\n",
    "label_1('Count', 'Loan Status', 'Status of Loan');"
   ]
  },
  {
   "cell_type": "markdown",
   "metadata": {},
   "source": [
    "The loan status with the maximum frequency is current followed by completed. Loans that are past due have the minimum frequency.This implies that most borrowers pay their loans in time."
   ]
  },
  {
   "cell_type": "markdown",
   "metadata": {},
   "source": [
    "### What is the highest category of listing selected by the borrower?"
   ]
  },
  {
   "cell_type": "code",
   "execution_count": 39,
   "metadata": {},
   "outputs": [],
   "source": [
    "# frequency of each unique value\n",
    "listing_category_count = df_1['listing_category'].value_counts()\n",
    "n_listing_category = df_1['listing_category'].value_counts().sum()"
   ]
  },
  {
   "cell_type": "code",
   "execution_count": 40,
   "metadata": {
    "scrolled": false
   },
   "outputs": [
    {
     "data": {
      "image/png": "[encoded data removed]",
      "text/plain": [
       "<Figure size 432x288 with 1 Axes>"
      ]
     },
     "metadata": {
      "needs_background": "light"
     },
     "output_type": "display_data"
    }
   ],
   "source": [
    "# a bar plot which shows the count of the category of listing selected by the borrower\n",
    "color = sb.color_palette()[2]\n",
    "sb.countplot(data = df_1, y = 'listing_category', color = color, order = listing_category_count.index)\n",
    "\n",
    "for i in range (listing_category_count.shape[0]):\n",
    "    count = listing_category_count[i]\n",
    "    pct_string = '{:0.1f}%'.format(100*count/n_listing_category)\n",
    "    plt.text(count+1, i, pct_string, va = 'center')\n",
    "\n",
    "label_1('Count', 'Listing Category', 'The Category of Listing Selected by the Borrower');"
   ]
  },
  {
   "cell_type": "markdown",
   "metadata": {},
   "source": [
    "This plot shows that most loans are obtained for the purpose of debt consolidation."
   ]
  },
  {
   "cell_type": "markdown",
   "metadata": {},
   "source": [
    "### Which employment status has the highest count?"
   ]
  },
  {
   "cell_type": "code",
   "execution_count": 41,
   "metadata": {},
   "outputs": [],
   "source": [
    "# frequency of each unique value\n",
    "employment_status_count = df_1['employment_status'].value_counts()\n",
    "n_employment_status = df_1['employment_status'].value_counts().sum()"
   ]
  },
  {
   "cell_type": "code",
   "execution_count": 42,
   "metadata": {},
   "outputs": [
    {
     "data": {
      "image/png": "[encoded data removed]",
      "text/plain": [
       "<Figure size 432x288 with 1 Axes>"
      ]
     },
     "metadata": {
      "needs_background": "light"
     },
     "output_type": "display_data"
    }
   ],
   "source": [
    "# a bar plot which shows the count of the borrowers' employment status\n",
    "color = sb.color_palette()[2]\n",
    "sb.countplot(data = df_1, y = 'employment_status', color = color, order = employment_status_count.index)\n",
    "\n",
    "for i in range (employment_status_count.shape[0]):\n",
    "    count = employment_status_count[i]\n",
    "    pct_string = '{:0.1f}%'.format(100*count/n_employment_status)\n",
    "    plt.text(count+1, i, pct_string, va = 'center')\n",
    "    \n",
    "    \n",
    "label_1('Count','Employment Status', 'Employment Status');"
   ]
  },
  {
   "cell_type": "markdown",
   "metadata": {},
   "source": [
    "From the bar plot above, it can be inferred that most borrowers are employed and less borrowers are either not employed or retired."
   ]
  },
  {
   "cell_type": "markdown",
   "metadata": {},
   "source": [
    "### Are most borrowers home owners?"
   ]
  },
  {
   "cell_type": "code",
   "execution_count": 43,
   "metadata": {
    "scrolled": false
   },
   "outputs": [
    {
     "data": {
      "image/png": "[encoded data removed]",
      "text/plain": [
       "<Figure size 432x288 with 1 Axes>"
      ]
     },
     "metadata": {
      "needs_background": "light"
     },
     "output_type": "display_data"
    }
   ],
   "source": [
    "# a bar plot which shows the count for whether the borrower is a home owner or not\n",
    "color = sb.color_palette()[2]\n",
    "sb.countplot(data = df_1, x = 'is_borrower_a_home_owner?', color = color)\n",
    "label_1('Is Borrower A Home Owner?', 'Count','Is the Borrower a Home Owner?');"
   ]
  },
  {
   "cell_type": "markdown",
   "metadata": {},
   "source": [
    "From the bar plot above, it can be inferred that most borrowers are home owners."
   ]
  },
  {
   "cell_type": "markdown",
   "metadata": {},
   "source": [
    "### What is the highest income range of the borrowers?"
   ]
  },
  {
   "cell_type": "code",
   "execution_count": 44,
   "metadata": {},
   "outputs": [],
   "source": [
    "# frequency of each unique value\n",
    "income_range_count = df_1['income_range'].value_counts()\n",
    "n_income_range = df_1['income_range'].value_counts().sum()"
   ]
  },
  {
   "cell_type": "code",
   "execution_count": 45,
   "metadata": {},
   "outputs": [
    {
     "data": {
      "image/png": "[encoded data removed]",
      "text/plain": [
       "<Figure size 720x360 with 1 Axes>"
      ]
     },
     "metadata": {
      "needs_background": "light"
     },
     "output_type": "display_data"
    }
   ],
   "source": [
    "# a bar plot which shows the count for the borrowers' income range\n",
    "plt.figure(figsize = [10,5])\n",
    "color = sb.color_palette()[2]\n",
    "#order = ['$0', '$1-24,999', '$25,000-49,999', '$50,000-74,999', '$75,000-99,000', '$100,000', 'Not employed', 'Not displayed']\n",
    "sb.countplot(data = df_1, y = 'income_range', color = color)#, order = order)\n",
    "\n",
    "for i in range (income_range_count.shape[0]):\n",
    "    count = income_range_count[i]\n",
    "    pct_string = '{:0.1f}%'.format(100*count/n_income_range)\n",
    "    plt.text(count+1, i, pct_string, va = 'center')\n",
    "    \n",
    "    \n",
    "label_1('Income Range', 'Count','Income Range');"
   ]
  },
  {
   "cell_type": "markdown",
   "metadata": {},
   "source": [
    "The highest income range is ($ 25,000-49,999) followed by ($ 50,000-74,999). The lowest income range is $ 0 followed by not employed borrowers."
   ]
  },
  {
   "cell_type": "markdown",
   "metadata": {},
   "source": [
    "### Do most borrowers have verifiable income?"
   ]
  },
  {
   "cell_type": "code",
   "execution_count": 46,
   "metadata": {},
   "outputs": [
    {
     "data": {
      "image/png": "[encoded data removed]",
      "text/plain": [
       "<Figure size 432x288 with 1 Axes>"
      ]
     },
     "metadata": {
      "needs_background": "light"
     },
     "output_type": "display_data"
    }
   ],
   "source": [
    "# a bar plot which shows the count for whether the borrowers' income is verifiable or not\n",
    "color = sb.color_palette()[2]\n",
    "sb.countplot(data = df_1, x = 'income_verifiable', color = color)\n",
    "label_1('Income Verifiable', 'Count','Income Verifiable');"
   ]
  },
  {
   "cell_type": "markdown",
   "metadata": {},
   "source": [
    "From the bar plot above, it can be inferred that most borrowers have verifiable income."
   ]
  },
  {
   "cell_type": "markdown",
   "metadata": {},
   "source": [
    "### Discuss the distribution(s) of your variable(s) of interest. Were there any unusual points? Did you need to perform any transformations?\n",
    "\n",
    "> The distributions of the variables of interest are mostly unimodal and right skewed. \n",
    "There were unusual points in the histogram plot of the Stated Monthly Income. I performed log transformation on the Stated Monthly Income to focus on the most relevant parts.\n",
    "\n",
    "### Of the features you investigated, were there any unusual distributions? Did you perform any operations on the data to tidy, adjust, or change the form of the data? If so, why did you do this?\n",
    "\n",
    "> There was an unusual distribution in the histogram of the debt to income ratio. There were values greater than 1 which is unlikely because the debt to income ratio is not greater than 1.\n",
    "These points were considered as outliers and were removed from the data and assigned to a new dataframe. The outliers were removed because they represent errors in the data."
   ]
  },
  {
   "cell_type": "markdown",
   "metadata": {},
   "source": [
    "## Bivariate Exploration\n"
   ]
  },
  {
   "cell_type": "markdown",
   "metadata": {},
   "source": [
    "### What is the relationship between Borrower APR and Term(Months) ?"
   ]
  },
  {
   "cell_type": "code",
   "execution_count": 47,
   "metadata": {},
   "outputs": [
    {
     "data": {
      "image/png": "[encoded data removed]",
      "text/plain": [
       "<Figure size 432x288 with 1 Axes>"
      ]
     },
     "metadata": {
      "needs_background": "light"
     },
     "output_type": "display_data"
    }
   ],
   "source": [
    "# distribution of borrower APR across the length of loans in months\n",
    "color = sb.color_palette()[2]\n",
    "ax1 = sb.boxplot(data = df_1, x = 'term', y = 'borrower_APR', color = color) \n",
    "label_1('Term (Months)', 'Borrower APR', 'Borrower APR vs term (months)');"
   ]
  },
  {
   "cell_type": "markdown",
   "metadata": {},
   "source": [
    "From this box plot, we can quickly see that the median borrower APR is higher at 12 months and the spread of the borrower APR distribution is larger at 36 months.There is also an outlier at 36 months and the median borrower APR at 36 and 60 months are similar."
   ]
  },
  {
   "cell_type": "markdown",
   "metadata": {},
   "source": [
    "### What is the relationship between Borrower Rate and Term(Months) ?"
   ]
  },
  {
   "cell_type": "code",
   "execution_count": 48,
   "metadata": {
    "scrolled": true
   },
   "outputs": [
    {
     "data": {
      "image/png": "[encoded data removed]",
      "text/plain": [
       "<Figure size 432x288 with 1 Axes>"
      ]
     },
     "metadata": {
      "needs_background": "light"
     },
     "output_type": "display_data"
    }
   ],
   "source": [
    "# distribution of borrower rate across the length of loans in months\n",
    "color = sb.color_palette()[2]\n",
    "sb.boxplot(data = df_1, x = 'term', y = 'borrower_rate', color = color)\n",
    "label_1('Term (Months)', 'Borrower Rate', 'Borrower Rate vs Term (Months)');"
   ]
  },
  {
   "cell_type": "markdown",
   "metadata": {},
   "source": [
    "From this box plot, we can quickly see that the median borrower rate is higher at 36 months and 60 months. The spread of the borrower rate distribution is larger at 36 months and there are two outliers at 36 months."
   ]
  },
  {
   "cell_type": "markdown",
   "metadata": {},
   "source": [
    "### What is the relationship between Loan Original Amount and Monthly Loan Payment ?"
   ]
  },
  {
   "cell_type": "code",
   "execution_count": 49,
   "metadata": {
    "scrolled": true
   },
   "outputs": [
    {
     "data": {
      "image/png": "[encoded data removed]",
      "text/plain": [
       "<Figure size 432x288 with 1 Axes>"
      ]
     },
     "metadata": {
      "needs_background": "light"
     },
     "output_type": "display_data"
    }
   ],
   "source": [
    "# relationship between loan original amount and monthly loan payment\n",
    "plt.scatter(data = df_1, x = 'loan_original_amount', y = 'monthly_loan_payment')\n",
    "label_1('Loan Original Amount', 'Monthly Loan Payment', 'Loan Original Amount vs Monthly Loan Payment');"
   ]
  },
  {
   "cell_type": "markdown",
   "metadata": {},
   "source": [
    "The plot above shows a positive correlation between Loan Original Amount and Monthly Loan Payment."
   ]
  },
  {
   "cell_type": "markdown",
   "metadata": {},
   "source": [
    "### Does the borrower's home ownership affect the loan status?"
   ]
  },
  {
   "cell_type": "code",
   "execution_count": 50,
   "metadata": {
    "scrolled": true
   },
   "outputs": [
    {
     "data": {
      "image/png": "[encoded data removed]",
      "text/plain": [
       "<Figure size 576x360 with 1 Axes>"
      ]
     },
     "metadata": {
      "needs_background": "light"
     },
     "output_type": "display_data"
    }
   ],
   "source": [
    "# the relationship between loan status and if the borrower is a home owner\n",
    "plt.figure(figsize = [8, 5])\n",
    "sb.countplot(data = df_1, hue = 'is_borrower_a_home_owner?', y = 'loan_status')\n",
    "label_1('Count', 'Loan Status', 'Loan Status vs if the Borrower is a Home Owner' );"
   ]
  },
  {
   "cell_type": "markdown",
   "metadata": {},
   "source": [
    "From the plot above, most of the borrowers with loan status on current are home owners. Whether the borrower is a home owner or not does not have a major effect on the loan status."
   ]
  },
  {
   "cell_type": "markdown",
   "metadata": {},
   "source": [
    "### Does the borrower's verifiable income have any effect on the loan status?"
   ]
  },
  {
   "cell_type": "code",
   "execution_count": 51,
   "metadata": {
    "scrolled": true
   },
   "outputs": [
    {
     "data": {
      "image/png": "[encoded data removed]",
      "text/plain": [
       "<Figure size 576x360 with 1 Axes>"
      ]
     },
     "metadata": {
      "needs_background": "light"
     },
     "output_type": "display_data"
    }
   ],
   "source": [
    "# the relationship between loan status and income verifiable\n",
    "plt.figure(figsize = [8, 5])\n",
    "sb.countplot(data = df_1, hue = 'income_verifiable', y = 'loan_status')\n",
    "label_1('Count', 'Loan Status', 'Relationship between Loan Status and Income Verifiable');"
   ]
  },
  {
   "cell_type": "markdown",
   "metadata": {},
   "source": [
    "From the plot above, most of the borrowers that have completed, current, defaulted and chargedoff loans have verifiable income. Whether the borrowers' income is verifiable or not does not have a major effect on the loan status."
   ]
  },
  {
   "cell_type": "markdown",
   "metadata": {},
   "source": [
    "### What is the relationship among the Borrower APR and each Listing Categories?"
   ]
  },
  {
   "cell_type": "code",
   "execution_count": 52,
   "metadata": {
    "scrolled": true
   },
   "outputs": [
    {
     "data": {
      "image/png": "[encoded data removed]",
      "text/plain": [
       "<Figure size 864x1296 with 21 Axes>"
      ]
     },
     "metadata": {
      "needs_background": "light"
     },
     "output_type": "display_data"
    }
   ],
   "source": [
    "# a facet grid of the borrower APR for each listing categories\n",
    "g = sb.FacetGrid(data = df_1, col = 'listing_category', col_wrap=4, sharey=False)\n",
    "g.map(plt.hist, \"borrower_APR\")\n",
    "g.fig.suptitle(\"Borrower APR of each Listing Categories\", y = 1.01)\n",
    "g.set(xlabel = 'Borrower APR',\n",
    "      ylabel = 'Frequency');"
   ]
  },
  {
   "cell_type": "markdown",
   "metadata": {},
   "source": [
    "The distribution of the borrower APR of each listing categories appear to be unimodal."
   ]
  },
  {
   "cell_type": "markdown",
   "metadata": {},
   "source": [
    "### Talk about some of the relationships you observed in this part of the investigation. How did the feature(s) of interest vary with other features in the dataset?\n",
    "\n",
    "> The income verifiable and the borrower's home ownership has no effect on the main features of interest.The spread of the borrower rate and borrower APR distribution is larger at 36 months.\n",
    "\n",
    "### Did you observe any interesting relationships between the other features (not the main feature(s) of interest)?\n",
    "\n",
    "> The loan original amount and monthly loan payment are highly correlated. "
   ]
  },
  {
   "cell_type": "markdown",
   "metadata": {},
   "source": [
    "## Multivariate Exploration\n"
   ]
  },
  {
   "cell_type": "markdown",
   "metadata": {},
   "source": [
    "### Which variables have the strongest correlation ?"
   ]
  },
  {
   "cell_type": "code",
   "execution_count": 53,
   "metadata": {},
   "outputs": [
    {
     "data": {
      "image/png": "[encoded data removed]",
      "text/plain": [
       "<Figure size 864x360 with 2 Axes>"
      ]
     },
     "metadata": {
      "needs_background": "light"
     },
     "output_type": "display_data"
    }
   ],
   "source": [
    "# The correlation among variables\n",
    "plt.figure(figsize = [12, 5])\n",
    "sb.heatmap(df_1.corr(), annot = True, fmt = '.2f', cmap = 'vlag_r', center = 0)\n",
    "label_1('Variables', 'Variables', 'Correlation among Variables');"
   ]
  },
  {
   "cell_type": "markdown",
   "metadata": {},
   "source": [
    "The Borrower Rate and Borrower APR are strongly positive correlated (0.99). Followed by the Loan Original Amount and Monthly Loan Payment (0.93). Income Verifiable and Debt to Income Ratio are negatively correlated (-0.60)."
   ]
  },
  {
   "cell_type": "markdown",
   "metadata": {},
   "source": [
    "### What is the relationship between borrower rate and borrower APR by term of loans?"
   ]
  },
  {
   "cell_type": "code",
   "execution_count": 54,
   "metadata": {
    "scrolled": false
   },
   "outputs": [
    {
     "data": {
      "image/png": "[encoded data removed]",
      "text/plain": [
       "<Figure size 576x360 with 1 Axes>"
      ]
     },
     "metadata": {
      "needs_background": "light"
     },
     "output_type": "display_data"
    }
   ],
   "source": [
    "# Relationship between the borrower rate,borrower APR by term of loans\n",
    "plt.figure(figsize = [8, 5])\n",
    "sb.scatterplot(data = df_1, x = 'borrower_APR', y = 'borrower_rate', hue = 'term')\n",
    "label_1('Borrower APR', 'Borrower Rate', 'Borrower Rate vs Borrower APR by Term in Months');"
   ]
  },
  {
   "cell_type": "markdown",
   "metadata": {},
   "source": [
    "From the plot above, there is a higher positive correlation between borrower rate and borrower APR in borrowers with 36 months  and 60 months as the term of loans compared to borrowers with 12 months as the term of loans."
   ]
  },
  {
   "cell_type": "markdown",
   "metadata": {},
   "source": [
    "### What is the relationship between monthly loan payment and loan original amount by term of loans?"
   ]
  },
  {
   "cell_type": "code",
   "execution_count": 55,
   "metadata": {
    "scrolled": true
   },
   "outputs": [
    {
     "data": {
      "image/png": "[encoded data removed]",
      "text/plain": [
       "<Figure size 576x360 with 1 Axes>"
      ]
     },
     "metadata": {
      "needs_background": "light"
     },
     "output_type": "display_data"
    }
   ],
   "source": [
    "# Relationship between the monthly loan payment, loan original amount by term of loans\n",
    "plt.figure(figsize = [8, 5])\n",
    "sb.scatterplot(data = df_1, x = 'loan_original_amount', y = 'monthly_loan_payment', hue = 'term')\n",
    "label_1('Loan Original Amount', 'Monthly Loan Payment', 'Loan Original Amount vs Monthly Loan Payment by Term in Months');"
   ]
  },
  {
   "cell_type": "markdown",
   "metadata": {},
   "source": [
    "From the plot above, there is a higher positive correlation between monthly loan payment and loan original amount in borrowers with 12 months as the term of loans compared to borrowers with 36 and 60 months as the term of loans."
   ]
  },
  {
   "cell_type": "markdown",
   "metadata": {},
   "source": [
    "### Talk about some of the relationships you observed in this part of the investigation. Were there features that strengthened each other in terms of looking at your feature(s) of interest?\n",
    "\n",
    "> Yes, there were features that strengthened each other. The Borrower Rate and Borrower APR are strongly positive correlated (0.99). Followed by the Loan Original Amount and Monthly Loan Payment (0.93). Income Verifiable and Debt to Income Ratio are negatively correlated (-0.60).\n",
    "\n",
    "### Were there any interesting or surprising interactions between features?\n",
    "\n",
    "> There was an interesting interaction among the monthly loan payment, loan original amount and term of loans. There is a higher positive correlation between monthly loan payment and loan original amount in borrowers with 12 months as the term of loans compared to borrowers with 36 and 60 months as the term of loans."
   ]
  },
  {
   "cell_type": "markdown",
   "metadata": {},
   "source": [
    "## Conclusions\n",
    "\n",
    "Many borrowers select 'debt consolidation' as the listing category, take loans for 36 months and are also employed.  Whether the borrower is a home owner or not does not affect the loan status. There was an unusual distribution in the histogram of the debt to income ratio. There were values greater than 1 which is unlikely because the debt to income ratio is not greater than 1.These points were considered as outliers and were removed from the data and assigned to a new dataframe. The outliers were removed because they represent errors in the data.\n",
    "There was an interesting interaction among the monthly loan payment, loan original amount and term of loans. There is a higher positive correlation between monthly loan payment and loan original amount in borrowers with 12 months as the term of loans compared to borrowers with 36 and 60 months as the term of loans.\n"
   ]
  }
 ],
 "metadata": {
  "kernelspec": {
   "display_name": "Python 3 (ipykernel)",
   "language": "python",
   "name": "python3"
  },
  "language_info": {
   "codemirror_mode": {
    "name": "ipython",
    "version": 3
   },
   "file_extension": ".py",
   "mimetype": "text/x-python",
   "name": "python",
   "nbconvert_exporter": "python",
   "pygments_lexer": "ipython3",
   "version": "3.9.12"
  }
 },
 "nbformat": 4,
 "nbformat_minor": 2
}
